{
 "cells": [
  {
   "cell_type": "code",
   "execution_count": 35,
   "metadata": {},
   "outputs": [],
   "source": [
    "import pandas as pd\n",
    "import numpy as np\n",
    "\n",
    "from sklearn.ensemble import (AdaBoostClassifier, GradientBoostingClassifier,\n",
    "                              RandomForestClassifier, ExtraTreesClassifier)\n",
    "from sklearn.linear_model import LogisticRegression\n",
    "from sklearn.tree import DecisionTreeClassifier\n",
    "from sklearn.base import clone\n",
    "from sklearn.neighbors import KNeighborsClassifier\n",
    "\n",
    "from sklearn.model_selection import train_test_split, KFold, StratifiedKFold\n",
    "from sklearn.metrics import f1_score\n",
    "from sklearn.datasets import load_digits\n",
    "\n",
    "#from tqdm import tqdm\n",
    "\n",
    "from sklearn.model_selection import RandomizedSearchCV\n",
    "from scipy.stats.distributions import randint\n",
    "\n",
    "from sklearn.preprocessing import StandardScaler\n",
    "\n",
    "dataset = load_digits()\n",
    "X, y = dataset['data'], dataset['target']\n",
    "\n",
    "X_train, X_test, y_train, y_test = train_test_split(X, y, random_state=42, test_size=0.2)\n",
    "\n",
    "def compute_meta_feature_mean(clf, X_train, X_test, y_train, cv):\n",
    "    n_classes = len(np.unique(y_train))\n",
    "    X_meta_train = np.zeros((len(X_train), n_classes), dtype=np.float32)\n",
    "    X_meta_test = np.zeros((len(X_test), n_classes), dtype=np.float32)\n",
    "    test_index = 0\n",
    "    #X_meta_test = np.empty([len(X_test), n_classes], dtype=np.float32)\n",
    "    for train_fold_index, predict_fold_index in cv.split(X_train):\n",
    "        X_fold_train, X_fold_predict = X_train[train_fold_index], X_train[predict_fold_index]\n",
    "        y_fold_train = y_train[train_fold_index]\n",
    "\n",
    "        folded_clf = clone(clf)\n",
    "        folded_clf.fit(X_fold_train, y_fold_train)\n",
    "        X_meta_train[predict_fold_index] = folded_clf.predict_proba(X_fold_predict)\n",
    "        \n",
    "        folded_test = folded_clf.predict_proba(X_test)\n",
    "        #print(X_meta_test.shape)\n",
    "        #print(folded_test.shape)\n",
    "        X_meta_test = np.sum([folded_test, X_meta_test], axis = 0, dtype=float) \n",
    "        test_index += 1\n",
    "\n",
    "    X_meta_test = np.divide(X_meta_test, test_index)\n",
    "    return X_meta_train, X_meta_test\n",
    "\n",
    "def compute_meta_feature(clf, X_train, X_test, y_train, cv):\n",
    "    \n",
    "    n_classes = len(np.unique(y_train))\n",
    "    X_meta_train = np.zeros((len(y_train), n_classes), dtype=np.float32)\n",
    "\n",
    "    splits = cv.split(X_train, y_train)\n",
    "    for train_fold_index, predict_fold_index in splits:\n",
    "        X_fold_train, X_fold_predict = X_train[train_fold_index], X_train[predict_fold_index]\n",
    "        y_fold_train = y_train[train_fold_index]\n",
    "        \n",
    "        folded_clf = clone(clf)\n",
    "        folded_clf.fit(X_fold_train, y_fold_train)\n",
    "        \n",
    "        X_meta_train[predict_fold_index] = folded_clf.predict_proba(X_fold_predict)\n",
    "    \n",
    "    meta_clf = clone(clf)\n",
    "    meta_clf.fit(X_train, y_train)\n",
    "    \n",
    "    X_meta_test = meta_clf.predict_proba(X_test)\n",
    "    \n",
    "    return X_meta_train, X_meta_test\n",
    "\n",
    "def generate_meta_features(classifiers, X_train, X_test, y_train, cv):\n",
    "   \n",
    "    features = [\n",
    "        compute_meta_feature(clf, X_train, X_test, y_train, cv)\n",
    "        for clf in classifiers\n",
    "    ]\n",
    "    \n",
    "    stacked_features_train = np.hstack([\n",
    "        features_train for features_train, features_test in features\n",
    "    ])\n",
    "\n",
    "    stacked_features_test = np.hstack([\n",
    "        features_test for features_train, features_test in features\n",
    "    ])\n",
    "    \n",
    "    return stacked_features_train, stacked_features_test\n",
    "\n",
    "def compute_metric(clf, X_train=X_train, X_test=X_test, y_train=y_train):\n",
    "    clf.fit(X_train, y_train)\n",
    "    y_test_pred = clf.predict(X_test)\n",
    "    return np.round(f1_score(y_test, y_test_pred, average='macro'), 6)"
   ]
  },
  {
   "cell_type": "code",
   "execution_count": 36,
   "metadata": {},
   "outputs": [],
   "source": [
    "scaler = StandardScaler()\n",
    "SX_train = scaler.fit_transform(X_train)\n",
    "SX_test = scaler.transform(X_test)"
   ]
  },
  {
   "cell_type": "code",
   "execution_count": 5,
   "metadata": {},
   "outputs": [],
   "source": [
    "cv = KFold(n_splits=10, shuffle=True, random_state=42)"
   ]
  },
  {
   "cell_type": "code",
   "execution_count": null,
   "metadata": {},
   "outputs": [],
   "source": [
    "#problem 6.6.2 meta features generation\n",
    "p662_l1 = LogisticRegression(random_state = 42, penalty = 'l1', C = 0.001, solver = 'saga', multi_class = 'ovr', max_iter=2000)\n",
    "p662_l2 = LogisticRegression(random_state = 42, penalty = 'l2', C = 0.001, solver = 'saga', multi_class = 'multinomial', max_iter=2000)\n",
    "p662_rf = RandomForestClassifier(random_state = 42, n_estimators = 300)\n",
    "p662_gb = GradientBoostingClassifier(random_state = 42, n_estimators = 200)\n",
    "\n",
    "p662_meta_X_train, p662_meta_X_test = generate_meta_features([p662_l1, p662_l2, p662_rf, p662_gb], SX_train, SX_test, y_train, cv)"
   ]
  },
  {
   "cell_type": "code",
   "execution_count": null,
   "metadata": {},
   "outputs": [],
   "source": [
    "#problem 6.6.2 classification \n",
    "p662_meta_lr = LogisticRegression(random_state = 42, penalty = None, solver = 'lbfgs', multi_class = 'auto')\n",
    "compute_metric(p662_meta_lr, p662_meta_X_train, p662_meta_X_test)"
   ]
  },
  {
   "cell_type": "code",
   "execution_count": 40,
   "metadata": {},
   "outputs": [],
   "source": [
    "#problem 6.6.3 meta features generation\n",
    "p663_rf = RandomForestClassifier(random_state = 42, n_estimators = 300)\n",
    "p663_et = ExtraTreesClassifier(random_state = 42, n_estimators = 200)\n",
    "\n",
    "p663_meta_X_train, p663_meta_X_test = generate_meta_features([p663_rf, p663_et], SX_train, SX_test, y_train, cv)"
   ]
  },
  {
   "cell_type": "code",
   "execution_count": 41,
   "metadata": {},
   "outputs": [
    {
     "data": {
      "text/plain": [
       "0.98449"
      ]
     },
     "execution_count": 41,
     "metadata": {},
     "output_type": "execute_result"
    }
   ],
   "source": [
    "#problem 6.6.3 classification \n",
    "p663_meta_lr = LogisticRegression(random_state = 42, penalty = None, solver = 'lbfgs', multi_class = 'auto')\n",
    "compute_metric(p663_meta_lr, p663_meta_X_train, p663_meta_X_test)"
   ]
  },
  {
   "cell_type": "code",
   "execution_count": 10,
   "metadata": {},
   "outputs": [],
   "source": [
    "#problem 6.6.4 meta features generation\n",
    "p664_et = ExtraTreesClassifier(random_state = 42, n_estimators = 300)\n",
    "p664_kn = KNeighborsClassifier()\n",
    "\n",
    "p664_meta_X_train, p664_meta_X_test = generate_meta_features([p664_kn, p664_et], X_train, X_test, y_train, cv)"
   ]
  },
  {
   "cell_type": "code",
   "execution_count": 11,
   "metadata": {},
   "outputs": [
    {
     "name": "stderr",
     "output_type": "stream",
     "text": [
      "/Users/victor/miniconda3/envs/env1/lib/python3.11/site-packages/sklearn/linear_model/_logistic.py:460: ConvergenceWarning: lbfgs failed to converge (status=1):\n",
      "STOP: TOTAL NO. of ITERATIONS REACHED LIMIT.\n",
      "\n",
      "Increase the number of iterations (max_iter) or scale the data as shown in:\n",
      "    https://scikit-learn.org/stable/modules/preprocessing.html\n",
      "Please also refer to the documentation for alternative solver options:\n",
      "    https://scikit-learn.org/stable/modules/linear_model.html#logistic-regression\n",
      "  n_iter_i = _check_optimize_result(\n"
     ]
    },
    {
     "data": {
      "text/plain": [
       "0.989904"
      ]
     },
     "execution_count": 11,
     "metadata": {},
     "output_type": "execute_result"
    }
   ],
   "source": [
    "#problem 6.6.4 classification \n",
    "p664_meta_lr = LogisticRegression(random_state = 42, penalty = None, solver = 'lbfgs', multi_class = 'auto')\n",
    "compute_metric(p664_meta_lr, p664_meta_X_train, p664_meta_X_test)"
   ]
  },
  {
   "cell_type": "code",
   "execution_count": 12,
   "metadata": {},
   "outputs": [],
   "source": [
    "#problem 6.6.5 meta features generation\n",
    "p665_l1 = LogisticRegression(random_state = 42, penalty = 'l1', C = 0.001, solver = 'saga', multi_class = 'ovr', max_iter=2000)\n",
    "p665_et = ExtraTreesClassifier(random_state = 42, n_estimators = 300)\n",
    "p665_ab = AdaBoostClassifier(random_state = 42)\n",
    "p664_kn = KNeighborsClassifier()\n",
    "\n",
    "p665_meta_X_train, p665_meta_X_test = generate_meta_features([p665_l1, p665_et, p665_ab, p664_kn], SX_train, SX_test, y_train, cv)"
   ]
  },
  {
   "cell_type": "code",
   "execution_count": 13,
   "metadata": {},
   "outputs": [
    {
     "data": {
      "text/plain": [
       "0.984567"
      ]
     },
     "execution_count": 13,
     "metadata": {},
     "output_type": "execute_result"
    }
   ],
   "source": [
    "#problem 6.6.5 classification \n",
    "p665_meta_lr = LogisticRegression(random_state = 42, penalty = None, solver = 'lbfgs', multi_class = 'auto')\n",
    "compute_metric(p665_meta_lr, p665_meta_X_train, p665_meta_X_test)"
   ]
  },
  {
   "cell_type": "code",
   "execution_count": 19,
   "metadata": {},
   "outputs": [],
   "source": [
    "#problem 6.6.6 meta features generation\n",
    "p666_rf = RandomForestClassifier(random_state = 42, n_estimators = 300)\n",
    "p666_et = ExtraTreesClassifier(random_state = 42, n_estimators = 300)\n",
    "\n",
    "p666_skf = StratifiedKFold(n_splits=20)\n",
    "p666_meta_X_train, p666_meta_X_test = generate_meta_features([p666_rf, p666_et], SX_train, SX_test, y_train, p666_skf)"
   ]
  },
  {
   "cell_type": "code",
   "execution_count": 20,
   "metadata": {},
   "outputs": [
    {
     "data": {
      "text/plain": [
       "0.981069"
      ]
     },
     "execution_count": 20,
     "metadata": {},
     "output_type": "execute_result"
    }
   ],
   "source": [
    "#problem 6.6.6 classification \n",
    "p666_meta_lr = LogisticRegression(random_state = 42, penalty = None, solver = 'lbfgs', multi_class = 'auto')\n",
    "compute_metric(p666_meta_lr, p666_meta_X_train, p666_meta_X_test)"
   ]
  },
  {
   "cell_type": "code",
   "execution_count": 22,
   "metadata": {},
   "outputs": [],
   "source": [
    "#problem 6.6.8 meta features generation\n",
    "p668_rf = RandomForestClassifier(random_state = 42, n_estimators = 300)\n",
    "p668_et = ExtraTreesClassifier(random_state = 42, n_estimators = 300)\n",
    "\n",
    "p668_skf = StratifiedKFold(n_splits=5)\n",
    "p668_meta_X_train, p668_meta_X_test = generate_meta_features([p668_rf, p668_et], SX_train, SX_test, y_train, p668_skf)"
   ]
  },
  {
   "cell_type": "code",
   "execution_count": 23,
   "metadata": {},
   "outputs": [
    {
     "data": {
      "text/plain": [
       "0.985118"
      ]
     },
     "execution_count": 23,
     "metadata": {},
     "output_type": "execute_result"
    }
   ],
   "source": [
    "#problem 6.6.8 classification \n",
    "p668_meta_lr = RandomForestClassifier(random_state = 42)\n",
    "compute_metric(p668_meta_lr, p668_meta_X_train, p668_meta_X_test)"
   ]
  },
  {
   "cell_type": "code",
   "execution_count": 24,
   "metadata": {},
   "outputs": [
    {
     "data": {
      "text/plain": [
       "0.984162"
      ]
     },
     "execution_count": 24,
     "metadata": {},
     "output_type": "execute_result"
    }
   ],
   "source": [
    "#problem 6.6.9 classification \n",
    "p669_meta_lr = KNeighborsClassifier()\n",
    "compute_metric(p669_meta_lr, p668_meta_X_train, p668_meta_X_test)"
   ]
  },
  {
   "cell_type": "code",
   "execution_count": 25,
   "metadata": {},
   "outputs": [
    {
     "data": {
      "text/plain": [
       "0.987404"
      ]
     },
     "execution_count": 25,
     "metadata": {},
     "output_type": "execute_result"
    }
   ],
   "source": [
    "#problem 6.6.10 classification \n",
    "p6610_meta_lr = GradientBoostingClassifier(random_state = 42)\n",
    "compute_metric(p6610_meta_lr, p668_meta_X_train, p668_meta_X_test)"
   ]
  },
  {
   "cell_type": "code",
   "execution_count": 26,
   "metadata": {},
   "outputs": [],
   "source": [
    "#problem 6.6.11 meta features generation\n",
    "p6611_rf = RandomForestClassifier(random_state = 42, n_estimators = 300, criterion='gini', max_depth=24)\n",
    "p6611_et = ExtraTreesClassifier(random_state = 42, n_estimators = 300)\n",
    "\n",
    "p6611_skf = StratifiedKFold(n_splits=3)\n",
    "p6611_meta_X_train, p6611_meta_X_test = generate_meta_features([p6611_rf, p6611_et], SX_train, SX_test, y_train, p6611_skf)"
   ]
  },
  {
   "cell_type": "code",
   "execution_count": 27,
   "metadata": {},
   "outputs": [
    {
     "data": {
      "text/plain": [
       "0.984309"
      ]
     },
     "execution_count": 27,
     "metadata": {},
     "output_type": "execute_result"
    }
   ],
   "source": [
    "#problem 6.6.11 classification \n",
    "p6611_meta_lr = ExtraTreesClassifier(random_state = 42, n_estimators = 100)\n",
    "compute_metric(p6611_meta_lr, p6611_meta_X_train, p6611_meta_X_test)"
   ]
  },
  {
   "cell_type": "code",
   "execution_count": 86,
   "metadata": {},
   "outputs": [
    {
     "name": "stderr",
     "output_type": "stream",
     "text": [
      "/Users/victor/miniconda3/envs/env1/lib/python3.11/site-packages/sklearn/linear_model/_logistic.py:460: ConvergenceWarning: lbfgs failed to converge (status=1):\n",
      "STOP: TOTAL NO. of ITERATIONS REACHED LIMIT.\n",
      "\n",
      "Increase the number of iterations (max_iter) or scale the data as shown in:\n",
      "    https://scikit-learn.org/stable/modules/preprocessing.html\n",
      "Please also refer to the documentation for alternative solver options:\n",
      "    https://scikit-learn.org/stable/modules/linear_model.html#logistic-regression\n",
      "  n_iter_i = _check_optimize_result(\n"
     ]
    },
    {
     "data": {
      "text/plain": [
       "0.965569"
      ]
     },
     "execution_count": 86,
     "metadata": {},
     "output_type": "execute_result"
    }
   ],
   "source": [
    "#problem 6.6.12\n",
    "p6612_rf = RandomForestClassifier(random_state = 42, n_estimators = 300, criterion='gini', max_depth=24)\n",
    "p6612_et = ExtraTreesClassifier(random_state = 42, n_estimators = 300)\n",
    "p6612_lr = LogisticRegression(random_state = 42)\n",
    "\n",
    "p6612_rf.fit(X_train, y_train)\n",
    "p6612_et.fit(X_train, y_train)\n",
    "p6612_lr.fit(X_train, y_train)\n",
    "\n",
    "p6612_y_test_pred = np.zeros_like(y_test)\n",
    "p6612_y_test_pred = np.sum([p6612_rf.predict(X_test), p6612_y_test_pred], axis = 0)\n",
    "p6612_y_test_pred = np.sum([p6612_et.predict(X_test), p6612_y_test_pred], axis = 0)\n",
    "p6612_y_test_pred = np.sum([p6612_lr.predict(X_test), p6612_y_test_pred], axis = 0)\n",
    "#print(p6612_y_test_pred)\n",
    "p6612_y_test_pred = np.floor_divide(p6612_y_test_pred, 3)\n",
    "#print(p6612_y_test_pred)\n",
    "np.round(f1_score(y_test, p6612_y_test_pred, average='macro'), 6)\n"
   ]
  }
 ],
 "metadata": {
  "kernelspec": {
   "display_name": "env1",
   "language": "python",
   "name": "python3"
  },
  "language_info": {
   "codemirror_mode": {
    "name": "ipython",
    "version": 3
   },
   "file_extension": ".py",
   "mimetype": "text/x-python",
   "name": "python",
   "nbconvert_exporter": "python",
   "pygments_lexer": "ipython3",
   "version": "3.11.5"
  },
  "orig_nbformat": 4
 },
 "nbformat": 4,
 "nbformat_minor": 2
}
