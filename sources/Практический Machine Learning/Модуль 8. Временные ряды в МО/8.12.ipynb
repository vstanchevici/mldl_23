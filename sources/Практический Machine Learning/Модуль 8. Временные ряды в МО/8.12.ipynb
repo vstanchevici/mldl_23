{
 "cells": [
  {
   "cell_type": "code",
   "execution_count": 75,
   "metadata": {},
   "outputs": [
    {
     "name": "stdout",
     "output_type": "stream",
     "text": [
      "1311.306\n",
      "1.044861887349508\n"
     ]
    }
   ],
   "source": [
    "import numpy as np, pandas as pd\n",
    "import matplotlib.pyplot as plt\n",
    "import time, datetime\n",
    "\n",
    "data = pd.read_csv('../../data/gold_clean.csv')\n",
    "data = data.rename(columns = {'ts': 'unixtime'})\n",
    "data['ts'] = pd.to_datetime(data.unixtime)\n",
    "data = data[(data.ts >= '2018-01-10') & (data.ts <= '2018-01-11')]\n",
    "\n",
    "data = data.reset_index(drop=True)\n",
    "data.head()\n",
    "\n",
    "data['rolling_mean'] = data.close.rolling(window = 100).mean()\n",
    "\n",
    "for index, row in data.iterrows():\n",
    "    if (row['rolling_mean'] < row['close']):\n",
    "        print(row['rolling_mean'])\n",
    "        break\n",
    "\n",
    "\n",
    "data['rolling_std'] = data.close.rolling(window = 100).std()\n",
    "for index, row in data.iterrows():\n",
    "    if not np.isnan(row['rolling_std']):\n",
    "        print(row['rolling_std'])\n",
    "        break\n",
    "\n",
    "#https://medium.datadriveninvestor.com/how-to-implement-bollinger-bands-in-python-1106b90da8d1\n",
    "#data['upper_band'] = data['rolling_mean'] + 2 * data['rolling_std']\n",
    "#data['lower_band'] = data['rolling_mean'] - 2 * data['rolling_std']\n",
    "\n",
    "#print(data[data['close'] < data['lower_band']].close.count())\n",
    "#print(data[data['close'] > data['upper_band']].close.count())\n",
    "\n",
    "def mm(value):\n",
    "    return (max(value) + min(value))*0.5\n",
    "\n",
    "data['rolling_mm'] = data.close.rolling(window = 50).apply(mm, raw = False)\n",
    "\n",
    "#print(data['rolling_mm'])\n",
    "\n",
    "data['rolling_m5'] = data.close.rolling(window = 500).mean()\n",
    "data['rolling_e1'] = data.close.ewm(span = 100).mean()\n",
    "\n",
    "#the task is not finished"
   ]
  }
 ],
 "metadata": {
  "kernelspec": {
   "display_name": "env1",
   "language": "python",
   "name": "python3"
  },
  "language_info": {
   "codemirror_mode": {
    "name": "ipython",
    "version": 3
   },
   "file_extension": ".py",
   "mimetype": "text/x-python",
   "name": "python",
   "nbconvert_exporter": "python",
   "pygments_lexer": "ipython3",
   "version": "3.11.5"
  },
  "orig_nbformat": 4
 },
 "nbformat": 4,
 "nbformat_minor": 2
}
