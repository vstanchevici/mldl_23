{
 "cells": [
  {
   "cell_type": "code",
   "execution_count": 1,
   "metadata": {},
   "outputs": [
    {
     "name": "stdout",
     "output_type": "stream",
     "text": [
      "11030.0\n",
      "-7750.0\n",
      "753.3\n",
      "-448.0\n",
      "1201.3\n"
     ]
    }
   ],
   "source": [
    "import numpy as np\n",
    "import pandas as pd\n",
    "import matplotlib.pyplot as plt\n",
    "import warnings\n",
    "\n",
    "%matplotlib inline\n",
    "\n",
    "def outliers_iqr(ys):\n",
    "    quartile_1, quartile_3 = np.percentile(ys, [25, 75])\n",
    "    iqr = quartile_3 - quartile_1\n",
    "    lower_bound = quartile_1 - (iqr * 1.5)\n",
    "    upper_bound = quartile_3 + (iqr * 1.5)\n",
    "    return np.where((ys > upper_bound) | (ys < lower_bound))[0]\n",
    "\n",
    "vis_data = pd.read_csv('../../data/train.csv', encoding = \"ISO-8859-1\", low_memory=False)\n",
    "\n",
    "#vis_data.info()\n",
    "\n",
    "\n",
    "bd = vis_data.balance_due.dropna()\n",
    "print(bd.max())\n",
    "print(bd.min())\n",
    "o = outliers_iqr(bd)\n",
    "new_bd = np.delete(bd, o)\n",
    "\n",
    "#print(o)\n",
    "\n",
    "print(new_bd.max())\n",
    "print(new_bd.min())\n",
    "print(new_bd.max() - new_bd.min())\n"
   ]
  }
 ],
 "metadata": {
  "kernelspec": {
   "display_name": "env1",
   "language": "python",
   "name": "python3"
  },
  "language_info": {
   "codemirror_mode": {
    "name": "ipython",
    "version": 3
   },
   "file_extension": ".py",
   "mimetype": "text/x-python",
   "name": "python",
   "nbconvert_exporter": "python",
   "pygments_lexer": "ipython3",
   "version": "3.11.5"
  },
  "orig_nbformat": 4
 },
 "nbformat": 4,
 "nbformat_minor": 2
}
