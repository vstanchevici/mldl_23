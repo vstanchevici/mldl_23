{
 "cells": [
  {
   "cell_type": "code",
   "execution_count": 87,
   "metadata": {},
   "outputs": [
    {
     "name": "stdout",
     "output_type": "stream",
     "text": [
      "MSE = 24.17, RMSE = 4.92\n"
     ]
    }
   ],
   "source": [
    "import numpy as np\n",
    "import pandas as pd\n",
    "#from sklearn.datasets import load_boston -> https://scikit-learn.org/1.0/modules/generated/sklearn.datasets.load_boston.html\n",
    "from sklearn.metrics import mean_squared_error, f1_score, accuracy_score, roc_curve, roc_auc_score\n",
    "from sklearn.model_selection import train_test_split\n",
    "from matplotlib import pyplot as plt\n",
    "from numpy.linalg import inv\n",
    "%matplotlib inline\n",
    "\n",
    "def print_regression_metrics(y_true, y_pred):\n",
    "    mse = mean_squared_error(y_true, y_pred)\n",
    "    rmse = np.sqrt(mse)\n",
    "    print(f'MSE = {mse:.2f}, RMSE = {rmse:.2f}')\n",
    "\n",
    "def linreg_linear(data, target):\n",
    "    data_transposed = np.transpose(data)\n",
    "    #inv(data_transposed*data)*(data_transposed*target)\n",
    "    theta = np.matmul(inv(np.matmul(data_transposed,data)), np.matmul(data_transposed,target))\n",
    "    return theta\n",
    "\n",
    "raw_df = pd.read_csv('../../data/boston.csv', sep=\"\\s+\", skiprows=22, header=None)\n",
    "#raw_df.info()\n",
    "\n",
    "data = np.hstack([raw_df.values[::2, :], raw_df.values[1::2, :2]])\n",
    "target = raw_df.values[1::2, 2]\n",
    "#data = np.hstack([np.ones(data.shape[0])[:, np.newaxis], data])\n",
    "\n",
    "theta = linreg_linear(data, target)\n",
    "print_regression_metrics(target, data.dot(theta))\n",
    "\n",
    "#with split data\n",
    "X_train, X_valid, y_train, y_valid = train_test_split(data, target, test_size=0.2, random_state=77)\n",
    "theta = linreg_linear(X_train, y_train)\n",
    "y_pred = X_valid.dot(theta)\n",
    "y_train_pred = X_train.dot(theta)\n",
    "\n",
    "\n",
    "#print_regression_metrics(y_valid, y_pred)\n",
    "#print_regression_metrics(y_train, y_train_pred)\n"
   ]
  },
  {
   "cell_type": "code",
   "execution_count": null,
   "metadata": {},
   "outputs": [],
   "source": [
    "from sklearn.linear_model import LinearRegression\n",
    "model = LinearRegression() \n",
    "model.fit(data, target)\n",
    "print_regression_metrics(target, model.predict(data))\n"
   ]
  },
  {
   "cell_type": "code",
   "execution_count": null,
   "metadata": {},
   "outputs": [],
   "source": [
    "model = LinearRegression() \n",
    "data_b = np.delete(data, np.where(data[:, 11] < 50)[0], axis=0)\n",
    "target_b = np.delete(target, np.where(data[:, 11] < 50)[0], axis=0)\n",
    "\n",
    "model.fit(data_b, target_b)\n",
    "print_regression_metrics(target_b, model.predict(data_b))\n",
    "\n"
   ]
  },
  {
   "cell_type": "code",
   "execution_count": null,
   "metadata": {},
   "outputs": [],
   "source": [
    "std_dev_x = np.std(data, axis=0)\n",
    "print(std_dev_x)\n",
    "index = std_dev_x.argmax(axis=0)\n",
    "print(\"Index=\", index, \", Value=\", std_dev_x[index])"
   ]
  },
  {
   "cell_type": "code",
   "execution_count": 98,
   "metadata": {},
   "outputs": [
    {
     "name": "stdout",
     "output_type": "stream",
     "text": [
      "[[-0.06959315  1.44       -0.57164988 ... -1.33928571  0.26190191\n",
      "  -0.63768116]\n",
      " [-0.06375455  0.         -0.20294345 ... -0.44642857  0.26190191\n",
      "  -0.22188906]\n",
      " [-0.06376011  0.         -0.20294345 ... -0.44642857  0.06667466\n",
      "  -0.73263368]\n",
      " ...\n",
      " [-0.05445006  0.          0.17350891 ...  0.69642857  0.26190191\n",
      "  -0.57171414]\n",
      " [-0.04086745  0.          0.17350891 ...  0.69642857  0.09641444\n",
      "  -0.48775612]\n",
      " [-0.05816351  0.          0.17350891 ...  0.69642857  0.26190191\n",
      "  -0.34782609]]\n",
      "MSE = 230.02, RMSE = 15.17\n"
     ]
    }
   ],
   "source": [
    "from sklearn import preprocessing\n",
    "\n",
    "#data_fix = np.hstack([np.ones(data.shape[0])[:, np.newaxis], data])\n",
    "scaler = preprocessing.RobustScaler()\n",
    "data_ds = scaler.fit_transform(data)\n",
    "\n",
    "theta = linreg_linear(data_ds, target)\n",
    "print_regression_metrics(target, data_ds.dot(theta))"
   ]
  }
 ],
 "metadata": {
  "kernelspec": {
   "display_name": "env1",
   "language": "python",
   "name": "python3"
  },
  "language_info": {
   "codemirror_mode": {
    "name": "ipython",
    "version": 3
   },
   "file_extension": ".py",
   "mimetype": "text/x-python",
   "name": "python",
   "nbconvert_exporter": "python",
   "pygments_lexer": "ipython3",
   "version": "3.11.5"
  },
  "orig_nbformat": 4
 },
 "nbformat": 4,
 "nbformat_minor": 2
}
