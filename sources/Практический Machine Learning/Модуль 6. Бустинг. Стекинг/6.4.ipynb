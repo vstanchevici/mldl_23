{
 "cells": [
  {
   "cell_type": "code",
   "execution_count": 53,
   "metadata": {},
   "outputs": [
    {
     "name": "stdout",
     "output_type": "stream",
     "text": [
      "MSE = 22.632176, RMSE = 4.757329\n"
     ]
    }
   ],
   "source": [
    "import pandas as pd\n",
    "import numpy as np\n",
    "import matplotlib.pyplot as plt\n",
    "\n",
    "from sklearn.metrics import mean_squared_error\n",
    "from sklearn.model_selection import train_test_split\n",
    "from sklearn.tree import DecisionTreeRegressor\n",
    "\n",
    "%matplotlib inline\n",
    "\n",
    "def print_regression_metrics(y_true, y_pred):\n",
    "    mse = mean_squared_error(y_true, y_pred)\n",
    "    rmse = np.sqrt(mse)\n",
    "    print(f'MSE = {mse:.6f}, RMSE = {rmse:.6f}')\n",
    "    #print(f'MSE = {mse}, RMSE = {rmse}')\n",
    "\n",
    "raw_df = pd.read_csv('../../data/boston.csv', sep=\"\\s+\", skiprows=22, header=None)\n",
    "data = np.hstack([raw_df.values[::2, :], raw_df.values[1::2, :2]])\n",
    "target = raw_df.values[1::2, 2]\n",
    "\n",
    "X_train, X_test, y_train, y_test = train_test_split(data, target, train_size = 0.75, shuffle=False)\n",
    "\n",
    "base_algorithms_list =  []\n",
    "coefficients_list =  []\n",
    "\n",
    "def  L(p, y):\n",
    "    return y-p\n",
    "\n",
    "def gbm_predict(X):\n",
    "    return [sum([coeff * algo.predict([x])[0] for algo, coeff in zip(base_algorithms_list, coefficients_list)]) for x in X] \n",
    "\n",
    "trees_count = 50\n",
    "depth = 5\n",
    "random_state=139\n",
    "coeff = 0.9\n",
    "\n",
    "#values = []\n",
    "#train_scores = []\n",
    "#test_scores = []\n",
    "for i in range(trees_count):\n",
    "    y_pred = gbm_predict(X_train)\n",
    "    base_algorithms_list.append(DecisionTreeRegressor(max_depth=depth, random_state=random_state).fit(X_train, L(y_pred, y_train)))\n",
    "    coeff = 0.9/(1.0+i)\n",
    "    coefficients_list.append(coeff)\n",
    "    #mse_test = mean_squared_error(y_test, gbm_predict(X_test))\n",
    "    #mse_train = mean_squared_error(y_train, y_pred)\n",
    "    #values.append(i)\n",
    "    #test_scores.append(np.sqrt(mse_test))\n",
    "    #train_scores.append(np.sqrt(mse_train))\n",
    "\n",
    "\n",
    "print_regression_metrics(y_test, gbm_predict(X_test))\n",
    "#plt.plot(values, train_scores, '-o', label='Train')\n",
    "#plt.plot(values, test_scores, '-o', label='Test')\n",
    "#plt.legend()\n",
    "#plt.show()"
   ]
  },
  {
   "cell_type": "code",
   "execution_count": 52,
   "metadata": {},
   "outputs": [
    {
     "name": "stdout",
     "output_type": "stream",
     "text": [
      "MSE = 68.144691, RMSE = 8.254980\n"
     ]
    }
   ],
   "source": [
    "from sklearn.linear_model import LinearRegression\n",
    "\n",
    "reg = LinearRegression()\n",
    "reg.fit(X_train, y_train)\n",
    "print_regression_metrics(y_test, reg.predict(X_test))"
   ]
  }
 ],
 "metadata": {
  "kernelspec": {
   "display_name": "env1",
   "language": "python",
   "name": "python3"
  },
  "language_info": {
   "codemirror_mode": {
    "name": "ipython",
    "version": 3
   },
   "file_extension": ".py",
   "mimetype": "text/x-python",
   "name": "python",
   "nbconvert_exporter": "python",
   "pygments_lexer": "ipython3",
   "version": "3.11.5"
  },
  "orig_nbformat": 4
 },
 "nbformat": 4,
 "nbformat_minor": 2
}
