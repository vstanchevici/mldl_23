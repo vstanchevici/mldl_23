{
 "cells": [
  {
   "cell_type": "code",
   "execution_count": 7,
   "metadata": {},
   "outputs": [
    {
     "name": "stderr",
     "output_type": "stream",
     "text": [
      "/Users/victor/miniconda3/envs/env1/lib/python3.11/site-packages/sklearn/cluster/_kmeans.py:1412: FutureWarning: The default value of `n_init` will change from 10 to 'auto' in 1.4. Set the value of `n_init` explicitly to suppress the warning\n",
      "  super()._check_params_vs_input(X, default_n_init=10)\n"
     ]
    },
    {
     "name": "stdout",
     "output_type": "stream",
     "text": [
      "KMeans:                   0.5134091924643247\n",
      "GaussianMixture:          0.49893287606943293\n",
      "AgglomerativeClustering:  0.4811992210663849\n",
      "DBSCAN:                   0.4454335539277996\n"
     ]
    },
    {
     "name": "stderr",
     "output_type": "stream",
     "text": [
      "/Users/victor/miniconda3/envs/env1/lib/python3.11/site-packages/sklearn/cluster/_kmeans.py:1412: FutureWarning: The default value of `n_init` will change from 10 to 'auto' in 1.4. Set the value of `n_init` explicitly to suppress the warning\n",
      "  super()._check_params_vs_input(X, default_n_init=10)\n",
      "/Users/victor/miniconda3/envs/env1/lib/python3.11/site-packages/sklearn/cluster/_kmeans.py:1412: FutureWarning: The default value of `n_init` will change from 10 to 'auto' in 1.4. Set the value of `n_init` explicitly to suppress the warning\n",
      "  super()._check_params_vs_input(X, default_n_init=10)\n",
      "/Users/victor/miniconda3/envs/env1/lib/python3.11/site-packages/sklearn/cluster/_kmeans.py:1412: FutureWarning: The default value of `n_init` will change from 10 to 'auto' in 1.4. Set the value of `n_init` explicitly to suppress the warning\n",
      "  super()._check_params_vs_input(X, default_n_init=10)\n",
      "/Users/victor/miniconda3/envs/env1/lib/python3.11/site-packages/sklearn/cluster/_kmeans.py:1412: FutureWarning: The default value of `n_init` will change from 10 to 'auto' in 1.4. Set the value of `n_init` explicitly to suppress the warning\n",
      "  super()._check_params_vs_input(X, default_n_init=10)\n",
      "/Users/victor/miniconda3/envs/env1/lib/python3.11/site-packages/sklearn/cluster/_kmeans.py:1412: FutureWarning: The default value of `n_init` will change from 10 to 'auto' in 1.4. Set the value of `n_init` explicitly to suppress the warning\n",
      "  super()._check_params_vs_input(X, default_n_init=10)\n",
      "/Users/victor/miniconda3/envs/env1/lib/python3.11/site-packages/sklearn/cluster/_kmeans.py:1412: FutureWarning: The default value of `n_init` will change from 10 to 'auto' in 1.4. Set the value of `n_init` explicitly to suppress the warning\n",
      "  super()._check_params_vs_input(X, default_n_init=10)\n",
      "/Users/victor/miniconda3/envs/env1/lib/python3.11/site-packages/sklearn/cluster/_kmeans.py:1412: FutureWarning: The default value of `n_init` will change from 10 to 'auto' in 1.4. Set the value of `n_init` explicitly to suppress the warning\n",
      "  super()._check_params_vs_input(X, default_n_init=10)\n",
      "/Users/victor/miniconda3/envs/env1/lib/python3.11/site-packages/sklearn/cluster/_kmeans.py:1412: FutureWarning: The default value of `n_init` will change from 10 to 'auto' in 1.4. Set the value of `n_init` explicitly to suppress the warning\n",
      "  super()._check_params_vs_input(X, default_n_init=10)\n",
      "/Users/victor/miniconda3/envs/env1/lib/python3.11/site-packages/sklearn/cluster/_kmeans.py:1412: FutureWarning: The default value of `n_init` will change from 10 to 'auto' in 1.4. Set the value of `n_init` explicitly to suppress the warning\n",
      "  super()._check_params_vs_input(X, default_n_init=10)\n"
     ]
    },
    {
     "name": "stdout",
     "output_type": "stream",
     "text": [
      "KMeans:                   0.5134091924643247 3\n",
      "GaussianMixture:          0.510682306926087 4\n",
      "AgglomerativeClustering:  0.48470679039805054 4\n"
     ]
    }
   ],
   "source": [
    "import numpy as np\n",
    "import matplotlib.pyplot as plt\n",
    "from sklearn import datasets\n",
    "from sklearn.cluster import KMeans\n",
    "from sklearn.mixture import GaussianMixture\n",
    "from sklearn.cluster import DBSCAN\n",
    "from sklearn.cluster import AgglomerativeClustering\n",
    "\n",
    "n_samples = 1500\n",
    "dataset = datasets.make_blobs(n_samples=n_samples, centers=2, center_box=(-7.0, 7.5),\n",
    "                              cluster_std=[1.4, 1.7],\n",
    "                              random_state=42)\n",
    "X_2, _ = datasets.make_blobs(n_samples=n_samples, random_state=170, centers=[[-4, -3]], cluster_std=[1.9])\n",
    "transformation = [[1.2, -0.8], [-0.4, 1.7]]\n",
    "X_2 = np.dot(X_2, transformation)\n",
    "X, y = np.concatenate((dataset[0], X_2)), np.concatenate((dataset[1], np.array([2] * len(X_2))))\n",
    "\n",
    "#plt.rcParams['figure.figsize'] = 10, 10\n",
    "#plt.scatter(X[:, 0], X[:, 1], c=y, alpha=0.5)\n",
    "#plt.show()\n",
    "\n",
    "k_means = KMeans(init=\"k-means++\", n_clusters=3, random_state=42)\n",
    "y_pred_kmeans = k_means.fit_predict(X)\n",
    "\n",
    "gm = GaussianMixture(n_components=3, random_state=42)\n",
    "y_pred_gm = gm.fit_predict(X)\n",
    "\n",
    "ac = AgglomerativeClustering(n_clusters=3)\n",
    "y_pred_ac = ac.fit_predict(X)\n",
    "\n",
    "dbscan = DBSCAN(eps=0.9, min_samples=35)\n",
    "y_pred_dbscan = dbscan.fit_predict(X)\n",
    "\n",
    "# теперь посчитаем коэффициент силуэта\n",
    "print('KMeans:                  ', silhouette_score(X=X, labels=y_pred_kmeans, metric='euclidean'))\n",
    "print('GaussianMixture:         ', silhouette_score(X=X, labels=y_pred_gm, metric='euclidean'))\n",
    "print('AgglomerativeClustering: ', silhouette_score(X=X, labels=y_pred_ac, metric='euclidean'))\n",
    "print('DBSCAN:                  ', silhouette_score(X=X, labels=y_pred_dbscan, metric='euclidean'))\n",
    "\n",
    "\n",
    "kmeans_clusters = 2\n",
    "gm_clusters = 2\n",
    "ac_clusters = 2\n",
    "kmeans_sc = -1\n",
    "gm_sc = -1\n",
    "ac_sc = -1\n",
    "for i in np.arange(2, 11, 1):\n",
    "    k_means = KMeans(init=\"k-means++\", n_clusters=i, random_state=42)\n",
    "    y_pred_kmeans = k_means.fit_predict(X)\n",
    "\n",
    "    gm = GaussianMixture(n_components=i, random_state=42)\n",
    "    y_pred_gm = gm.fit_predict(X)\n",
    "\n",
    "    ac = AgglomerativeClustering(n_clusters=i)\n",
    "    y_pred_ac = ac.fit_predict(X)\n",
    "\n",
    "    kmeans_silhouette_score = silhouette_score(X=X, labels=y_pred_kmeans, metric='euclidean')\n",
    "    gm_silhouette_score = silhouette_score(X=X, labels=y_pred_gm, metric='euclidean')\n",
    "    ac_silhouette_score = silhouette_score(X=X, labels=y_pred_ac, metric='euclidean')\n",
    "\n",
    "    if (kmeans_silhouette_score > kmeans_sc):\n",
    "        kmeans_sc = kmeans_silhouette_score\n",
    "        kmeans_clusters = i\n",
    "\n",
    "    if (gm_silhouette_score > gm_sc):\n",
    "        gm_sc = gm_silhouette_score\n",
    "        gm_clusters = i\n",
    "    \n",
    "    if (ac_silhouette_score > ac_sc):\n",
    "        ac_sc = ac_silhouette_score\n",
    "        ac_clusters = i\n",
    "\n",
    "\n",
    "print('KMeans:                  ', kmeans_sc, kmeans_clusters)\n",
    "print('GaussianMixture:         ', gm_sc, gm_clusters)\n",
    "print('AgglomerativeClustering: ', ac_sc, ac_clusters)"
   ]
  }
 ],
 "metadata": {
  "kernelspec": {
   "display_name": "env1",
   "language": "python",
   "name": "python3"
  },
  "language_info": {
   "codemirror_mode": {
    "name": "ipython",
    "version": 3
   },
   "file_extension": ".py",
   "mimetype": "text/x-python",
   "name": "python",
   "nbconvert_exporter": "python",
   "pygments_lexer": "ipython3",
   "version": "3.11.5"
  },
  "orig_nbformat": 4
 },
 "nbformat": 4,
 "nbformat_minor": 2
}
