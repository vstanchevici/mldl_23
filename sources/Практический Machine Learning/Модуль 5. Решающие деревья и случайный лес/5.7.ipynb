{
 "cells": [
  {
   "cell_type": "code",
   "execution_count": 1,
   "metadata": {},
   "outputs": [
    {
     "name": "stdout",
     "output_type": "stream",
     "text": [
      "Random tree: 0.8280912476722533\n",
      "Random tree bagging: 0.9504593420235878\n"
     ]
    }
   ],
   "source": [
    "import pandas as pd\n",
    "import numpy as np\n",
    "import matplotlib.pyplot as plt\n",
    "\n",
    "from sklearn.model_selection import cross_val_score, train_test_split\n",
    "from sklearn.ensemble import BaggingClassifier, RandomForestClassifier\n",
    "from sklearn.tree import DecisionTreeClassifier\n",
    "from sklearn.linear_model import LogisticRegression\n",
    "from sklearn.preprocessing import StandardScaler\n",
    "from sklearn.datasets import load_digits\n",
    "\n",
    "%matplotlib inline\n",
    "\n",
    "#scaler = StandardScaler()\n",
    "#X = pd.DataFrame(data=scaler.fit_transform(X), columns=X.columns)\n",
    "\n",
    "def estimate_accuracy(clf, X, y):\n",
    "    return cross_val_score(clf, X, y, cv=10, scoring='f1_micro').mean()\n",
    "\n",
    "digits = load_digits()\n",
    "X, y = digits.data, digits.target\n",
    "\n",
    "random_tree = DecisionTreeClassifier(splitter = 'random', random_state = 0)\n",
    "print(\"Random tree:\", estimate_accuracy(random_tree, X, y))\n",
    "\n",
    "\n",
    "bagging_random_trees = BaggingClassifier(random_tree, n_estimators=100, max_features=int(np.sqrt(len(X))))\n",
    "print(\"Random tree bagging:\", estimate_accuracy(bagging_random_trees, X, y))"
   ]
  },
  {
   "cell_type": "code",
   "execution_count": null,
   "metadata": {},
   "outputs": [],
   "source": [
    "#count = 0\n",
    "#for depth in range(2, 10, 2):  #max_depth\n",
    "#    for estimator in range(90, 110, 1):#n_estimators\n",
    "#        for samples_split in range(2, 6, 1):#min_samples_split\n",
    "#            print(depth, estimator, samples_split)\n",
    "#            count += 1\n",
    "#\n",
    "#print(count)"
   ]
  },
  {
   "cell_type": "code",
   "execution_count": 15,
   "metadata": {},
   "outputs": [
    {
     "name": "stdout",
     "output_type": "stream",
     "text": [
      "accuracy: 0.7868684047175666  depth: 2\n",
      "accuracy: 0.8903538175046556  depth: 4\n",
      "accuracy: 0.9293047796399752  depth: 6\n",
      "accuracy: 0.9376567349472376  depth: 8\n",
      "accuracy: 0.9476939788950961  depth: no_limit\n",
      "CPU times: user 14.3 s, sys: 127 ms, total: 14.5 s\n",
      "Wall time: 14.6 s\n"
     ]
    }
   ],
   "source": [
    "%%time\n",
    "\n",
    "for depth in range(2, 10, 2):  #max_depth\n",
    "    clf = RandomForestClassifier(max_depth=depth, random_state=0)\n",
    "    print(\"accuracy:\", estimate_accuracy(clf, X, y), \" depth:\", depth)\n",
    "\n",
    "clf = RandomForestClassifier(random_state=0)\n",
    "print(\"accuracy:\", estimate_accuracy(clf, X, y), \" depth: no_limit\")\n",
    "\n"
   ]
  },
  {
   "cell_type": "code",
   "execution_count": 16,
   "metadata": {},
   "outputs": [
    {
     "name": "stdout",
     "output_type": "stream",
     "text": [
      "accuracy: 0.8241433891992551  estimator: 5\n",
      "accuracy: 0.856415270018622  estimator: 10\n",
      "accuracy: 0.8864773432650528  estimator: 15\n",
      "accuracy: 0.8948199875853508  estimator: 20\n",
      "accuracy: 0.8992644320297952  estimator: 25\n",
      "accuracy: 0.898147113594041  estimator: 30\n",
      "accuracy: 0.9059435133457481  estimator: 35\n",
      "accuracy: 0.9131781502172565  estimator: 40\n",
      "accuracy: 0.9131781502172565  estimator: 45\n",
      "accuracy: 0.9148417132216016  estimator: 50\n",
      "accuracy: 0.9165052762259467  estimator: 55\n",
      "accuracy: 0.9131688392302918  estimator: 60\n",
      "accuracy: 0.9164990689013036  estimator: 65\n",
      "accuracy: 0.9170608317815023  estimator: 70\n",
      "accuracy: 0.9192892613283676  estimator: 75\n",
      "accuracy: 0.9231843575418995  estimator: 80\n",
      "accuracy: 0.9231812538795781  estimator: 85\n",
      "accuracy: 0.9209590316573559  estimator: 90\n",
      "accuracy: 0.9181843575418996  estimator: 95\n",
      "accuracy: 0.9187368094351337  estimator: 100\n",
      "accuracy: 0.9170701427684669  estimator: 105\n",
      "accuracy: 0.9192954686530106  estimator: 110\n",
      "accuracy: 0.9192923649906891  estimator: 115\n",
      "accuracy: 0.9192954686530108  estimator: 120\n",
      "accuracy: 0.9192892613283675  estimator: 125\n",
      "accuracy: 0.9198479205462446  estimator: 130\n",
      "accuracy: 0.9176256983240224  estimator: 135\n",
      "accuracy: 0.9170639354438238  estimator: 140\n",
      "accuracy: 0.9198479205462448  estimator: 145\n"
     ]
    }
   ],
   "source": [
    "for estimator in range(5, 150, 5):#n_estimators\n",
    "    clf = RandomForestClassifier(n_estimators=estimator, max_depth=5, random_state=0)\n",
    "    print(\"accuracy:\", estimate_accuracy(clf, X, y), \" estimator:\", estimator)    "
   ]
  },
  {
   "cell_type": "code",
   "execution_count": 17,
   "metadata": {},
   "outputs": [
    {
     "name": "stdout",
     "output_type": "stream",
     "text": [
      "accuracy: 0.9499068901303538  samples_split: 5\n",
      "accuracy: 0.9443389199255121  samples_split: 9\n",
      "accuracy: 0.941548727498448  samples_split: 13\n",
      "accuracy: 0.9365487274984481  samples_split: 17\n",
      "accuracy: 0.9371011793916821  samples_split: 21\n",
      "accuracy: 0.9387616387337058  samples_split: 25\n",
      "accuracy: 0.9320825574177529  samples_split: 29\n",
      "accuracy: 0.9304220980757293  samples_split: 33\n",
      "accuracy: 0.9292985723153322  samples_split: 37\n",
      "accuracy: 0.92707635009311  samples_split: 41\n",
      "accuracy: 0.9237337057728119  samples_split: 45\n",
      "accuracy: 0.9242923649906892  samples_split: 49\n",
      "accuracy: 0.9181781502172566  samples_split: 53\n",
      "accuracy: 0.9170670391061455  samples_split: 57\n",
      "accuracy: 0.9187306021104906  samples_split: 61\n",
      "accuracy: 0.9165083798882684  samples_split: 65\n",
      "accuracy: 0.9131781502172565  samples_split: 69\n",
      "accuracy: 0.9103879577901927  samples_split: 73\n",
      "accuracy: 0.9165145872129115  samples_split: 77\n"
     ]
    }
   ],
   "source": [
    "for samples_split in range(5, 80, 4):#min_samples_split\n",
    "    clf = RandomForestClassifier(min_samples_split=samples_split, random_state=0)\n",
    "    print(\"accuracy:\", estimate_accuracy(clf, X, y), \" samples_split:\", samples_split)"
   ]
  }
 ],
 "metadata": {
  "kernelspec": {
   "display_name": "env1",
   "language": "python",
   "name": "python3"
  },
  "language_info": {
   "codemirror_mode": {
    "name": "ipython",
    "version": 3
   },
   "file_extension": ".py",
   "mimetype": "text/x-python",
   "name": "python",
   "nbconvert_exporter": "python",
   "pygments_lexer": "ipython3",
   "version": "3.11.5"
  },
  "orig_nbformat": 4
 },
 "nbformat": 4,
 "nbformat_minor": 2
}
