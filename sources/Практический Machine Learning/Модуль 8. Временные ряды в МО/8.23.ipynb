{
 "cells": [
  {
   "cell_type": "code",
   "execution_count": 3,
   "metadata": {},
   "outputs": [
    {
     "name": "stdout",
     "output_type": "stream",
     "text": [
      "len(data) = 10792\n"
     ]
    },
    {
     "data": {
      "text/html": [
       "<div>\n",
       "<style scoped>\n",
       "    .dataframe tbody tr th:only-of-type {\n",
       "        vertical-align: middle;\n",
       "    }\n",
       "\n",
       "    .dataframe tbody tr th {\n",
       "        vertical-align: top;\n",
       "    }\n",
       "\n",
       "    .dataframe thead th {\n",
       "        text-align: right;\n",
       "    }\n",
       "</style>\n",
       "<table border=\"1\" class=\"dataframe\">\n",
       "  <thead>\n",
       "    <tr style=\"text-align: right;\">\n",
       "      <th></th>\n",
       "      <th>unixtime</th>\n",
       "      <th>open</th>\n",
       "      <th>high</th>\n",
       "      <th>low</th>\n",
       "      <th>close</th>\n",
       "      <th>vol</th>\n",
       "      <th>ts</th>\n",
       "    </tr>\n",
       "  </thead>\n",
       "  <tbody>\n",
       "    <tr>\n",
       "      <th>39280</th>\n",
       "      <td>1518220800000000000</td>\n",
       "      <td>1316.7</td>\n",
       "      <td>1317.1</td>\n",
       "      <td>1316.7</td>\n",
       "      <td>1317.0</td>\n",
       "      <td>259</td>\n",
       "      <td>2018-02-10 00:00:00</td>\n",
       "    </tr>\n",
       "    <tr>\n",
       "      <th>39281</th>\n",
       "      <td>1518220860000000000</td>\n",
       "      <td>1317.0</td>\n",
       "      <td>1317.0</td>\n",
       "      <td>1316.6</td>\n",
       "      <td>1316.7</td>\n",
       "      <td>103</td>\n",
       "      <td>2018-02-10 00:01:00</td>\n",
       "    </tr>\n",
       "    <tr>\n",
       "      <th>39282</th>\n",
       "      <td>1518220920000000000</td>\n",
       "      <td>1316.8</td>\n",
       "      <td>1317.1</td>\n",
       "      <td>1316.7</td>\n",
       "      <td>1317.1</td>\n",
       "      <td>139</td>\n",
       "      <td>2018-02-10 00:02:00</td>\n",
       "    </tr>\n",
       "    <tr>\n",
       "      <th>39283</th>\n",
       "      <td>1518220980000000000</td>\n",
       "      <td>1317.0</td>\n",
       "      <td>1317.6</td>\n",
       "      <td>1317.0</td>\n",
       "      <td>1317.5</td>\n",
       "      <td>198</td>\n",
       "      <td>2018-02-10 00:03:00</td>\n",
       "    </tr>\n",
       "    <tr>\n",
       "      <th>39284</th>\n",
       "      <td>1518221040000000000</td>\n",
       "      <td>1317.6</td>\n",
       "      <td>1318.3</td>\n",
       "      <td>1317.6</td>\n",
       "      <td>1318.1</td>\n",
       "      <td>218</td>\n",
       "      <td>2018-02-10 00:04:00</td>\n",
       "    </tr>\n",
       "  </tbody>\n",
       "</table>\n",
       "</div>"
      ],
      "text/plain": [
       "                  unixtime    open    high     low   close  vol  \\\n",
       "39280  1518220800000000000  1316.7  1317.1  1316.7  1317.0  259   \n",
       "39281  1518220860000000000  1317.0  1317.0  1316.6  1316.7  103   \n",
       "39282  1518220920000000000  1316.8  1317.1  1316.7  1317.1  139   \n",
       "39283  1518220980000000000  1317.0  1317.6  1317.0  1317.5  198   \n",
       "39284  1518221040000000000  1317.6  1318.3  1317.6  1318.1  218   \n",
       "\n",
       "                       ts  \n",
       "39280 2018-02-10 00:00:00  \n",
       "39281 2018-02-10 00:01:00  \n",
       "39282 2018-02-10 00:02:00  \n",
       "39283 2018-02-10 00:03:00  \n",
       "39284 2018-02-10 00:04:00  "
      ]
     },
     "execution_count": 3,
     "metadata": {},
     "output_type": "execute_result"
    }
   ],
   "source": [
    "import pandas as pd\n",
    "import matplotlib.pyplot as plt\n",
    "import numpy as np\n",
    "import random\n",
    "\n",
    "from sklearn.ensemble import RandomForestClassifier\n",
    "from sklearn.model_selection import train_test_split\n",
    "\n",
    "from sklearn.metrics import confusion_matrix\n",
    "from sklearn.metrics import roc_curve, auc\n",
    "from math import isnan\n",
    "\n",
    "data = pd.read_csv('../../data/gold_clean.csv')\n",
    "data = data.rename(columns = {'ts': 'unixtime'})\n",
    "data['ts'] = pd.to_datetime(data.unixtime)\n",
    "data = data[(data.ts >= '2018-02-10') & (data.ts <= '2018-02-22')]\n",
    "\n",
    "print(f'len(data) = {len(data)}')\n",
    "data.head()\n"
   ]
  },
  {
   "cell_type": "code",
   "execution_count": 9,
   "metadata": {},
   "outputs": [
    {
     "name": "stdout",
     "output_type": "stream",
     "text": [
      "train start: 2018-02-10 00:00:00\n",
      "train end:   2018-02-16 17:00:00\n",
      "test start:  2018-02-16 17:01:00\n",
      "test end:    2018-02-22 00:00:00\n",
      "934\n"
     ]
    },
    {
     "name": "stderr",
     "output_type": "stream",
     "text": [
      "/Users/victor/miniconda3/envs/env1/lib/python3.11/site-packages/numpy/core/fromnumeric.py:59: FutureWarning: 'DataFrame.swapaxes' is deprecated and will be removed in a future version. Please use 'DataFrame.transpose' instead.\n",
      "  return bound(*args, **kwds)\n"
     ]
    }
   ],
   "source": [
    "splitCoef = 0.6\n",
    "\n",
    "features = data.copy()\n",
    "\n",
    "## линейное разбиение \n",
    "features_train, features_test = np.split(features, [int(splitCoef*len(features))])\n",
    "## разбиение случайным образом\n",
    "# features_train, features_test = train_test_split(features, test_size=1-splitCoef, random_state=43)\n",
    "\n",
    "print(f'train start: {features_train.ts.iloc[0]}')\n",
    "print(f'train end:   {features_train.ts.iloc[-1]}')\n",
    "print(f'test start:  {features_test.ts.iloc[0]}')\n",
    "print(f'test end:    {features_test.ts.iloc[-1]}')\n",
    "\n",
    "print(features_test.vol.iloc[0])"
   ]
  },
  {
   "cell_type": "code",
   "execution_count": 12,
   "metadata": {},
   "outputs": [
    {
     "name": "stdout",
     "output_type": "stream",
     "text": [
      "934\n"
     ]
    }
   ],
   "source": [
    "features = data.copy()\n",
    "f1, f2, f3, f4, f5 = np.array_split(features, 5)\n",
    "\n",
    "print(f3.vol.iloc[-1])"
   ]
  },
  {
   "cell_type": "code",
   "execution_count": 33,
   "metadata": {},
   "outputs": [
    {
     "name": "stdout",
     "output_type": "stream",
     "text": [
      "Fold 0:\n",
      "  Test:  index=[10782]\n",
      "Fold 1:\n",
      "  Test:  index=[10783]\n",
      "Fold 2:\n",
      "  Test:  index=[10784]\n",
      "Fold 3:\n",
      "  Test:  index=[10785]\n",
      "Fold 4:\n",
      "  Test:  index=[10786]\n",
      "Fold 5:\n",
      "  Test:  index=[10787]\n",
      "Fold 6:\n",
      "  Test:  index=[10788]\n",
      "Fold 7:\n",
      "  Test:  index=[10789]\n",
      "Fold 8:\n",
      "  Test:  index=[10790]\n",
      "Fold 9:\n",
      "  Test:  index=[10791]\n",
      "unixtime    1519257060000000000\n",
      "open                     1326.2\n",
      "high                     1326.5\n",
      "low                      1326.2\n",
      "close                    1326.2\n",
      "vol                         100\n",
      "ts          2018-02-21 23:51:00\n",
      "Name: 50062, dtype: object\n"
     ]
    }
   ],
   "source": [
    "#problem 8.23.3 not solved\n",
    "from sklearn.model_selection import TimeSeriesSplit\n",
    "\n",
    "features = data.copy()\n",
    "tscv = TimeSeriesSplit(n_splits=10, max_train_size=3, test_size=1)\n",
    "for i, (train_index, test_index) in enumerate(tscv.split(features)):\n",
    "    print(f\"Fold {i}:\")\n",
    "    #print(f\"  Train: index={train_index}\")\n",
    "    print(f\"  Test:  index={test_index}\")\n",
    "\n",
    "\n",
    "print(features[10782:10783].iloc[-1])"
   ]
  }
 ],
 "metadata": {
  "kernelspec": {
   "display_name": "env1",
   "language": "python",
   "name": "python3"
  },
  "language_info": {
   "codemirror_mode": {
    "name": "ipython",
    "version": 3
   },
   "file_extension": ".py",
   "mimetype": "text/x-python",
   "name": "python",
   "nbconvert_exporter": "python",
   "pygments_lexer": "ipython3",
   "version": "3.11.5"
  },
  "orig_nbformat": 4
 },
 "nbformat": 4,
 "nbformat_minor": 2
}
