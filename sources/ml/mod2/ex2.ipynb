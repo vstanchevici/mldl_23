{
 "cells": [
  {
   "cell_type": "code",
   "execution_count": 1,
   "metadata": {},
   "outputs": [
    {
     "name": "stderr",
     "output_type": "stream",
     "text": [
      "/var/folders/zn/kyqq10rn5p9gl6tpqh15k7580000gn/T/ipykernel_54672/3565086327.py:8: DtypeWarning: Columns (11,12,31) have mixed types. Specify dtype option on import or set low_memory=False.\n",
      "  data = pd.read_csv('../../data/train.csv', encoding = \"cp1252\")\n"
     ]
    },
    {
     "name": "stdout",
     "output_type": "stream",
     "text": [
      "0.45259606090997195\n"
     ]
    }
   ],
   "source": [
    "import numpy as np\n",
    "import pandas as pd\n",
    "import matplotlib.pyplot as plt\n",
    "from sklearn.preprocessing import StandardScaler\n",
    "\n",
    "%matplotlib inline\n",
    "\n",
    "data = pd.read_csv('../../data/train.csv', encoding = \"cp1252\")\n",
    "\n",
    "#data.info()\n",
    "\n",
    "#data['balance_due'].info()\n",
    "\n",
    "#scaler = StandardScaler()\n",
    "#data_ss = scaler.fit_transform(data[['balance_due']])\n",
    "\n",
    "bs = np.sqrt(data.balance_due[data.balance_due > 0]);\n",
    "print(np.abs(bs.median() - bs.mean()))\n"
   ]
  }
 ],
 "metadata": {
  "kernelspec": {
   "display_name": "env1",
   "language": "python",
   "name": "python3"
  },
  "language_info": {
   "codemirror_mode": {
    "name": "ipython",
    "version": 3
   },
   "file_extension": ".py",
   "mimetype": "text/x-python",
   "name": "python",
   "nbconvert_exporter": "python",
   "pygments_lexer": "ipython3",
   "version": "3.11.5"
  },
  "orig_nbformat": 4
 },
 "nbformat": 4,
 "nbformat_minor": 2
}
