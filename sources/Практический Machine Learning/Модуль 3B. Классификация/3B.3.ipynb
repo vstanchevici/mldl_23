{
 "cells": [
  {
   "cell_type": "code",
   "execution_count": 61,
   "metadata": {},
   "outputs": [
    {
     "name": "stdout",
     "output_type": "stream",
     "text": [
      "0.9875\n",
      "0.9859154929577465\n",
      "0.9905660377358491\n",
      "0.9882352941176472\n"
     ]
    }
   ],
   "source": [
    "from sklearn.model_selection import train_test_split\n",
    "from sklearn.linear_model import LogisticRegression\n",
    "from sklearn.metrics import accuracy_score, precision_score, recall_score, f1_score\n",
    "import matplotlib.pyplot as plt\n",
    "import pandas as pd\n",
    "import seaborn as sns\n",
    "import numpy as np\n",
    "\n",
    "def prepare_mobile_data():\n",
    "    data = pd.read_csv('../../data/train_mobile.csv', sep =';')\n",
    "    Y = data['price_range']\n",
    "    corr= data.corr()\n",
    "    #matrix = np.triu(corr)\n",
    "    #sns.set(font_scale=1)\n",
    "    #plt.subplots(figsize=(12, 12))\n",
    "    #https://seaborn.pydata.org/examples/many_pairwise_correlations.html\n",
    "    #sns.heatmap(corr, mask=matrix, square=True, annot=True, fmt=\".1f\", linewidths=0.1, cmap=\"RdBu\")\n",
    "\n",
    "    #print(data.drop('price_range', axis=1).apply(lambda x: abs(x.corr(data.price_range))).sort_values(ascending=False))\n",
    "    \n",
    "    X = data[['ram', 'battery_power', 'px_width', 'px_height', 'touch_screen']]\n",
    "    return X, Y\n",
    "\n",
    "def train_validate(X, Y):\n",
    "    # Разбить данные на train/valid\n",
    "    X_train, X_valid, Y_train, Y_valid = train_test_split(X, Y, test_size=0.2, random_state=31)\n",
    "\n",
    "    # Создать и обучить\n",
    "    model = LogisticRegression()\n",
    "    model.fit(X_train, Y_train)\n",
    "\n",
    "    # Сделать предсказания по валидционной выборке\n",
    "    Y_pred = model.predict(X_valid)\n",
    "\n",
    "    # Посчитать значение ошибок MSE и RMSE для валидационных данных\n",
    "    #print_regression_metrics(Y_valid, Y_pred)\n",
    "\n",
    "    print(accuracy_score(Y_valid,Y_pred))\n",
    "    print(precision_score(Y_valid,Y_pred))\n",
    "    print(recall_score(Y_valid,Y_pred))\n",
    "    print(f1_score(Y_valid,Y_pred))\n",
    "\n",
    "\n",
    "X, Y = prepare_mobile_data()\n",
    "train_validate(X, Y)"
   ]
  },
  {
   "cell_type": "code",
   "execution_count": null,
   "metadata": {},
   "outputs": [],
   "source": []
  }
 ],
 "metadata": {
  "kernelspec": {
   "display_name": "env1",
   "language": "python",
   "name": "python3"
  },
  "language_info": {
   "codemirror_mode": {
    "name": "ipython",
    "version": 3
   },
   "file_extension": ".py",
   "mimetype": "text/x-python",
   "name": "python",
   "nbconvert_exporter": "python",
   "pygments_lexer": "ipython3",
   "version": "3.11.5"
  },
  "orig_nbformat": 4
 },
 "nbformat": 4,
 "nbformat_minor": 2
}
