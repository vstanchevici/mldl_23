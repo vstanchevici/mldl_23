{
 "cells": [
  {
   "cell_type": "code",
   "execution_count": 7,
   "metadata": {},
   "outputs": [
    {
     "name": "stdout",
     "output_type": "stream",
     "text": [
      "MAE =  1.25\n",
      "MSE =  2.75\n",
      "R_2 =  0.2142857142857143\n"
     ]
    }
   ],
   "source": [
    "import numpy as np\n",
    "import pandas as pd\n",
    "import matplotlib.pyplot as plt\n",
    "from sklearn import metrics\n",
    "\n",
    "%matplotlib inline\n",
    "\n",
    "y_happy = [2, 3, -1, 4]\n",
    "y_happy_pred = [1, 3, 2, 5]\n",
    "\n",
    "\n",
    "MAE = metrics.mean_absolute_error(y_happy, y_happy_pred)\n",
    "print(\"MAE = \", MAE)\n",
    "\n",
    "MSE = metrics.mean_squared_error(y_happy, y_happy_pred)\n",
    "print(\"MSE = \", MSE)\n",
    "\n",
    "R_2 = metrics.r2_score(y_happy, y_happy_pred)\n",
    "print(\"R_2 = \", R_2)\n",
    "\n",
    "\n"
   ]
  },
  {
   "cell_type": "markdown",
   "metadata": {},
   "source": [
    "\\begin{equation}\\beta^{(k)}=\\beta^{(k-1)}-\\alpha \\cdot \\frac{1}{n} \\sum_{i=1}^{n} 2 x_{i}^{T}\\left(x_{i}\\beta^{(k-1)}-y_{i}\\right)\\end{equation}"
   ]
  },
  {
   "cell_type": "code",
   "execution_count": 18,
   "metadata": {},
   "outputs": [
    {
     "name": "stdout",
     "output_type": "stream",
     "text": [
      "[2. 2.]\n"
     ]
    }
   ],
   "source": [
    "import numpy as np\n",
    "import pandas as pd\n",
    "import matplotlib.pyplot as plt\n",
    "from sklearn import metrics \n",
    "import math\n",
    "\n",
    "%matplotlib inline\n",
    "# https://medium.com/analytics-vidhya/ordinary-least-square-ols-method-for-linear-regression-ef8ca10aadfc\n",
    "\n",
    "def gradientDescent(X, y, beta, alpha, num_iters):\n",
    "    \"\"\"\n",
    "       Performs gradient descent to learn theta\n",
    "    \"\"\"\n",
    "    m = y.size  # number of training examples\n",
    "    for i in range(num_iters):\n",
    "        y_hat = np.dot(X, beta)\n",
    "        beta = beta - alpha * (1.0/m) * np.dot(2*X.T, y_hat-y)\n",
    "    return beta\n",
    "\n",
    "x = np.array([1, 2])\n",
    "y = np.array([2, 5])\n",
    "a = 1.0/6.0\n",
    "\n",
    "b=np.array([0, 0])\n",
    "\n",
    "\n",
    "print(gradientDescent(x, y, b, a, 1))"
   ]
  }
 ],
 "metadata": {
  "kernelspec": {
   "display_name": "env1",
   "language": "python",
   "name": "python3"
  },
  "language_info": {
   "codemirror_mode": {
    "name": "ipython",
    "version": 3
   },
   "file_extension": ".py",
   "mimetype": "text/x-python",
   "name": "python",
   "nbconvert_exporter": "python",
   "pygments_lexer": "ipython3",
   "version": "3.11.5"
  },
  "orig_nbformat": 4
 },
 "nbformat": 4,
 "nbformat_minor": 2
}
