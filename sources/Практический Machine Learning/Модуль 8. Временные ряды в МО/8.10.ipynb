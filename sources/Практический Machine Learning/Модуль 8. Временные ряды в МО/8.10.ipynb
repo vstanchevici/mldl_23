{
 "cells": [
  {
   "cell_type": "code",
   "execution_count": 21,
   "metadata": {},
   "outputs": [
    {
     "name": "stdout",
     "output_type": "stream",
     "text": [
      "data.shape = (121674, 6)\n",
      "<class 'pandas.core.frame.DataFrame'>\n",
      "RangeIndex: 121674 entries, 0 to 121673\n",
      "Data columns (total 6 columns):\n",
      " #   Column  Non-Null Count   Dtype         \n",
      "---  ------  --------------   -----         \n",
      " 0   open    121674 non-null  float64       \n",
      " 1   high    121674 non-null  float64       \n",
      " 2   low     121674 non-null  float64       \n",
      " 3   close   121674 non-null  float64       \n",
      " 4   vol     121674 non-null  int64         \n",
      " 5   ts      121674 non-null  datetime64[ns]\n",
      "dtypes: datetime64[ns](1), float64(4), int64(1)\n",
      "memory usage: 5.6 MB\n",
      "1    1.04649\n",
      "Name: open, dtype: float64\n",
      "1    1.046375\n",
      "Name: close, dtype: float64\n",
      "5    1.04236\n",
      "Name: high, dtype: float64\n",
      "5    1.03898\n",
      "Name: low, dtype: float64\n",
      "9    481.334375\n",
      "Name: vol, dtype: float64\n"
     ]
    },
    {
     "name": "stderr",
     "output_type": "stream",
     "text": [
      "/Users/victor/miniconda3/envs/env1/lib/python3.11/site-packages/numpy/core/fromnumeric.py:3504: RuntimeWarning: Mean of empty slice.\n",
      "  return _methods._mean(a, axis=axis, dtype=dtype,\n",
      "/Users/victor/miniconda3/envs/env1/lib/python3.11/site-packages/numpy/core/_methods.py:129: RuntimeWarning: invalid value encountered in scalar divide\n",
      "  ret = ret.dtype.type(ret / rcount)\n"
     ]
    }
   ],
   "source": [
    "import numpy as np, pandas as pd\n",
    "import matplotlib.pyplot as plt\n",
    "#import plotly.graph_objects as go\n",
    "import time, datetime\n",
    "\n",
    "filePath = '../../data/EURUSD_1.csv'\n",
    "data = pd.read_csv(filePath)\n",
    "data['ts'] = pd.to_datetime(data.ts)\n",
    "print(f'data.shape = {data.shape}')\n",
    "\n",
    "data.info()\n",
    "\n",
    "df = data.copy()\n",
    "\n",
    "\"\"\"\n",
    "fig = go.Figure(data  = [go.Candlestick(\n",
    "            x=df['ts'],\n",
    "            open  = df['open'],\n",
    "            high  = df['high'],\n",
    "            low   = df['low'],\n",
    "            close = df['close']\n",
    "        )])\n",
    "\n",
    "fig.show()\n",
    "\"\"\"\n",
    "\n",
    "def hm(value):\n",
    "    return (np.mean(value) + np.median(value))*0.5\n",
    "\n",
    "conversion = {\n",
    "            'open' : 'median',\n",
    "            'high' : 'max', \n",
    "            'low'  : 'min',\n",
    "            'close': 'mean',\n",
    "            'vol'  : hm\n",
    "}\n",
    "\n",
    "df = df.set_index('ts')\n",
    "downsampled = df.resample('8H').apply(conversion)\n",
    "df = df.reset_index()\n",
    "downsampled = downsampled.reset_index()\n",
    "\n",
    "#print(downsampled)\n",
    "print(downsampled[downsampled.ts == '2017-01-02 16:00:00'].open)\n",
    "print(downsampled[downsampled.ts == '2017-01-02 16:00:00'].close)\n",
    "print(downsampled[downsampled.ts == '2017-01-04 00:00:00'].high)\n",
    "print(downsampled[downsampled.ts == '2017-01-04 00:00:00'].low)\n",
    "print(downsampled[downsampled.ts == '2017-01-05 08:00:00'].vol)"
   ]
  },
  {
   "cell_type": "code",
   "execution_count": 61,
   "metadata": {},
   "outputs": [
    {
     "name": "stderr",
     "output_type": "stream",
     "text": [
      "/Users/victor/miniconda3/envs/env1/lib/python3.11/site-packages/numpy/core/fromnumeric.py:3504: RuntimeWarning: Mean of empty slice.\n",
      "  return _methods._mean(a, axis=axis, dtype=dtype,\n",
      "/Users/victor/miniconda3/envs/env1/lib/python3.11/site-packages/numpy/core/_methods.py:129: RuntimeWarning: invalid value encountered in scalar divide\n",
      "  ret = ret.dtype.type(ret / rcount)\n"
     ]
    },
    {
     "name": "stdout",
     "output_type": "stream",
     "text": [
      "4508\n",
      "4    1.051683\n",
      "Name: open, dtype: float64\n",
      "4   NaN\n",
      "Name: close, dtype: float64\n",
      "0       1.05187\n",
      "1       1.05187\n",
      "2       1.05187\n",
      "3       1.05187\n",
      "4       1.05168\n",
      "         ...   \n",
      "5396    1.04540\n",
      "5397    1.04540\n",
      "5398    1.04532\n",
      "5399    1.04532\n",
      "5400    1.04532\n",
      "Name: close, Length: 5401, dtype: float64\n"
     ]
    }
   ],
   "source": [
    "df = data.copy()\n",
    "df = df[df.ts <= '2017-01-03 00:00:00']\n",
    "\n",
    "df = df.set_index('ts')\n",
    "upsampled = df.resample(rule='10s').apply(conversion)\n",
    "df = df.reset_index()\n",
    "upsampled = upsampled.reset_index()\n",
    "\n",
    "print(upsampled.open.isna().sum())\n",
    "\n",
    "uopen = upsampled.interpolate()\n",
    "print(uopen[uopen.ts == '2017-01-02 09:00:40'].open)\n",
    "\n",
    "#get index\n",
    "print(upsampled[upsampled.ts == '2017-01-02 09:00:40'].close)\n",
    "#looc at index\n",
    "uclose = upsampled.close.interpolate(method='nearest')\n",
    "print(uclose)\n",
    "\n"
   ]
  },
  {
   "cell_type": "code",
   "execution_count": 26,
   "metadata": {},
   "outputs": [
    {
     "name": "stdout",
     "output_type": "stream",
     "text": [
      "1.0502950326146914\n"
     ]
    }
   ],
   "source": [
    "df = data.copy()\n",
    "df = df[(df.ts >= '2017-01-05 12:00:00') & (df.ts <= '2017-01-05 13:00:00')]\n",
    "df['unixtime'] = df.ts.astype(np.int64)\n",
    "\n",
    "df.head()\n",
    "\n",
    "ti = np.linspace(df.unixtime.min(), df.unixtime.max(), 135)\n",
    "upsampled = np.interp(ti, df.unixtime, df.close)\n",
    "\n",
    "print(upsampled.mean())\n"
   ]
  }
 ],
 "metadata": {
  "kernelspec": {
   "display_name": "env1",
   "language": "python",
   "name": "python3"
  },
  "language_info": {
   "codemirror_mode": {
    "name": "ipython",
    "version": 3
   },
   "file_extension": ".py",
   "mimetype": "text/x-python",
   "name": "python",
   "nbconvert_exporter": "python",
   "pygments_lexer": "ipython3",
   "version": "3.11.5"
  },
  "orig_nbformat": 4
 },
 "nbformat": 4,
 "nbformat_minor": 2
}
