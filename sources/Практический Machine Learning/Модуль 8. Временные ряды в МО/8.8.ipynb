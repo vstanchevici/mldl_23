{
 "cells": [
  {
   "cell_type": "code",
   "execution_count": null,
   "metadata": {},
   "outputs": [],
   "source": [
    "import numpy as np, pandas as pd\n",
    "import matplotlib.pyplot as plt\n",
    "from scipy import interpolate\n",
    "from sklearn.metrics import mean_squared_error\n",
    "\n",
    "w1 = 10    \n",
    "a1 = 1     \n",
    "Fs = 30 \n",
    "Ts = 1.0/Fs\n",
    "alpha = 5\n",
    "\n",
    "## исходная ось (низкое разрешение)\n",
    "t = np.linspace(0, 1, Fs)\n",
    "## функция для интерполяции\n",
    "y = a1*np.exp(-alpha*t) * np.sin(2*np.pi*w1*t) \n",
    " \n",
    "\n",
    "## интерполяционная сетка (высокое разрешение)\n",
    "tt = np.linspace(0, 1, 100*Fs)\n",
    "## функция высокого разрешения (пытаемся получить её интерполяцией)\n",
    "y_high_res = a1*np.exp(-alpha*tt) * np.sin(2*np.pi*w1*tt) \n",
    "\n",
    "f, ax = plt.subplots(figsize=(12, 8))\n",
    "#ax.plot(t, y)\n",
    "#ax.plot(tt, y_high_res, '--')\n",
    "#ax.legend(['Функция для интерполяции', 'Функция высокого разрешения'])\n",
    "#ax.grid()\n",
    "#plt.show()\n",
    "\n",
    "y_inter = interpolate.interp1d(t, y, kind='cubic')\n",
    "print(mean_squared_error(y_high_res, y_inter(tt)))\n",
    "\n"
   ]
  },
  {
   "cell_type": "code",
   "execution_count": 36,
   "metadata": {},
   "outputs": [
    {
     "name": "stdout",
     "output_type": "stream",
     "text": [
      "1.343535181720052e-18\n"
     ]
    }
   ],
   "source": [
    "w1 = 5   \n",
    "a1 = 1     \n",
    "Fs = 1000\n",
    "Ts = 1.0/Fs\n",
    "alpha = 5\n",
    "\n",
    "df = pd.DataFrame()\n",
    "## ось\n",
    "df['t'] = np.linspace(-1, 1, Fs)\n",
    "## функция для интерполяции\n",
    "df['y'] = np.sin(2*np.pi*w1*df.t) / df.t \n",
    " \n",
    "## пропущенные значения    \n",
    "df['y_lost'] = df.y\n",
    "df.loc[0::3, 'y_lost'] = np.nan\n",
    "\n",
    "\n",
    "#f, ax = plt.subplots(figsize=(12, 8))\n",
    "#ax.plot(df.t, df.y_lost)\n",
    "#ax.set_ylim([-10, 10])\n",
    "#ax.legend(['Функция для интерполяции'])\n",
    "#ax.grid()\n",
    "#plt.show()\n",
    "\n",
    "#df.head(10)\n",
    "\n",
    "y_inter = df.y_lost.interpolate(method='polynomial', order = 5).fillna(0)\n",
    "print(mean_squared_error(df.y, y_inter))"
   ]
  }
 ],
 "metadata": {
  "kernelspec": {
   "display_name": "env1",
   "language": "python",
   "name": "python3"
  },
  "language_info": {
   "codemirror_mode": {
    "name": "ipython",
    "version": 3
   },
   "file_extension": ".py",
   "mimetype": "text/x-python",
   "name": "python",
   "nbconvert_exporter": "python",
   "pygments_lexer": "ipython3",
   "version": "3.11.5"
  },
  "orig_nbformat": 4
 },
 "nbformat": 4,
 "nbformat_minor": 2
}
