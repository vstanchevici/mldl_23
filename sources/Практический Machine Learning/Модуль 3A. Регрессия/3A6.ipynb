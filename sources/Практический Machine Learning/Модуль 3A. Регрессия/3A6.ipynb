{
 "cells": [
  {
   "cell_type": "code",
   "execution_count": 13,
   "metadata": {},
   "outputs": [
    {
     "ename": "NameError",
     "evalue": "name 'linreg_linear' is not defined",
     "output_type": "error",
     "traceback": [
      "\u001b[0;31m---------------------------------------------------------------------------\u001b[0m",
      "\u001b[0;31mNameError\u001b[0m                                 Traceback (most recent call last)",
      "Cell \u001b[0;32mIn[13], line 21\u001b[0m\n\u001b[1;32m     18\u001b[0m data \u001b[39m=\u001b[39m np\u001b[39m.\u001b[39mhstack([raw_df\u001b[39m.\u001b[39mvalues[::\u001b[39m2\u001b[39m, :], raw_df\u001b[39m.\u001b[39mvalues[\u001b[39m1\u001b[39m::\u001b[39m2\u001b[39m, :\u001b[39m2\u001b[39m]])\n\u001b[1;32m     19\u001b[0m target \u001b[39m=\u001b[39m raw_df\u001b[39m.\u001b[39mvalues[\u001b[39m1\u001b[39m::\u001b[39m2\u001b[39m, \u001b[39m2\u001b[39m]\n\u001b[0;32m---> 21\u001b[0m theta \u001b[39m=\u001b[39m linreg_linear(data, target)\n",
      "\u001b[0;31mNameError\u001b[0m: name 'linreg_linear' is not defined"
     ]
    }
   ],
   "source": [
    "import numpy as np\n",
    "import pandas as pd\n",
    "#from sklearn.datasets import load_boston -> https://scikit-learn.org/1.0/modules/generated/sklearn.datasets.load_boston.html\n",
    "from sklearn.metrics import mean_squared_error, f1_score, accuracy_score, roc_curve, roc_auc_score\n",
    "from sklearn.model_selection import train_test_split\n",
    "from matplotlib import pyplot as plt\n",
    "%matplotlib inline\n",
    "\n",
    "def print_regression_metrics(y_true, y_pred):\n",
    "    mse = mean_squared_error(y_true, y_pred)\n",
    "    rmse = np.sqrt(mse)\n",
    "    print(f'MSE = {mse:.2f}, RMSE = {rmse:.2f}')\n",
    "\n",
    "raw_df = pd.read_csv('../../data/boston.csv', sep=\"\\s+\", skiprows=22, header=None)\n",
    "#data.info()\n",
    "\n",
    "#data.price_doc.hist();\n",
    "data = np.hstack([raw_df.values[::2, :], raw_df.values[1::2, :2]])\n",
    "target = raw_df.values[1::2, 2]\n",
    "\n",
    "theta = linreg_linear(data, target)"
   ]
  }
 ],
 "metadata": {
  "kernelspec": {
   "display_name": "env1",
   "language": "python",
   "name": "python3"
  },
  "language_info": {
   "codemirror_mode": {
    "name": "ipython",
    "version": 3
   },
   "file_extension": ".py",
   "mimetype": "text/x-python",
   "name": "python",
   "nbconvert_exporter": "python",
   "pygments_lexer": "ipython3",
   "version": "3.11.5"
  },
  "orig_nbformat": 4
 },
 "nbformat": 4,
 "nbformat_minor": 2
}
