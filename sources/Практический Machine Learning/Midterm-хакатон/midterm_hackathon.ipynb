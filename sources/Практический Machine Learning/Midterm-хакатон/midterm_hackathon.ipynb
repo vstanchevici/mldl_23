{
 "cells": [
  {
   "cell_type": "code",
   "execution_count": 8,
   "metadata": {},
   "outputs": [],
   "source": [
    "import pandas as pd\n",
    "import numpy as np\n",
    "import os\n",
    "\n",
    "from sklearn.ensemble import (AdaBoostClassifier, GradientBoostingClassifier, RandomForestClassifier, ExtraTreesClassifier)\n",
    "from sklearn.linear_model import LogisticRegression\n",
    "from sklearn.tree import DecisionTreeClassifier\n",
    "from sklearn.base import clone\n",
    "from sklearn.neighbors import KNeighborsClassifier\n",
    "\n",
    "from sklearn.model_selection import train_test_split, KFold, StratifiedKFold\n",
    "from sklearn.metrics import f1_score\n",
    "\n",
    "from sklearn.preprocessing import RobustScaler"
   ]
  },
  {
   "cell_type": "code",
   "execution_count": 78,
   "metadata": {},
   "outputs": [],
   "source": [
    "def load_data(folder):\n",
    "    dfs = []\n",
    "    for filename in os.listdir(folder):\n",
    "        if filename.endswith(\".csv\"): \n",
    "            df = pd.read_csv(f\"{folder}/{filename}\")\n",
    "            columns_mapping = {\"IT\": \"ID\", \"1D\": \"ID\",\n",
    "                           \"conc_points_mean\": \"concave_points_mean\", \"conc_points_std\": \"concave_points_std\", \"conc_points_max\": \"concave_points_max\",\n",
    "                           \"p_mean\": \"perimeter_mean\", \"p_std\": \"perimeter_std\", \"p_max\": \"perimeter_max\",\n",
    "                           }\n",
    "            df.rename(columns=columns_mapping, inplace=True)\n",
    "            dfs.append(df)\n",
    "    return dfs\n",
    "\n",
    "def prepare_data_for_training(dfs, bias_for_corr = 0.0):\n",
    "    #df = dfs[0]\n",
    "    #for row in df.values:\n",
    "    #    id = int(row[0])\n",
    "    #    category = int(row[1])\n",
    "    #    for other in dfs[1:]:\n",
    "    #        other_category = other[other.ID == id][\"Category\"].values[0]\n",
    "    #        if category != other_category:\n",
    "    #            print(\"Mismatch Category found at ID\", id)\n",
    "\n",
    "    data = dfs[0]\n",
    "    for df in dfs[1:]:\n",
    "        data = data.join(df.set_index([\"ID\", \"Category\"]), on=[\"ID\", \"Category\"], validate='1:1')\n",
    "\n",
    "    #data = data.sort_index(axis=1) ???\n",
    "              \n",
    "    y = data['Category']\n",
    "    X = data.drop(['ID', 'Category'], axis=1)\n",
    "\n",
    "    #robust_scaler = RobustScaler()\n",
    "    #X = pd.DataFrame(robust_scaler.fit_transform(X))\n",
    "\n",
    "    columns_to_drop = []\n",
    "\n",
    "    #calculate correlation with target variable\n",
    "    corr = X.apply(lambda x: abs(x.corr(y))).sort_values(ascending=False)\n",
    "    \n",
    "    for index, value in corr.items():\n",
    "        if value < bias_for_corr:\n",
    "            columns_to_drop.append(index)\n",
    "\n",
    "    X.drop(columns_to_drop, axis=1, inplace=True)\n",
    "    columns_to_drop = []\n",
    "\n",
    "    #remove hight correlated features\n",
    "    for i_series_name, i_series in X.items():\n",
    "        for j_series_name, j_series in X.items():\n",
    "            if (i_series_name != j_series_name):\n",
    "                if abs(i_series.corr(j_series)) > 0.95:\n",
    "                    columns_to_drop.append(i_series_name)\n",
    "\n",
    "    columns_to_drop = list(set(columns_to_drop))\n",
    "    \n",
    "    X.drop(columns_to_drop, axis=1, inplace=True)\n",
    "\n",
    "    return X, y, columns_to_drop\n",
    "\n",
    "def prepare_data_for_testing(dfs, columns_to_drop = []):\n",
    "    data = dfs[0]\n",
    "    for df in dfs[1:]:\n",
    "        data = data.join(df.set_index([\"ID\"]), on=[\"ID\"], validate='1:1')\n",
    "\n",
    "    #data = data.sort_index(axis=1) ???\n",
    "    \n",
    "    data.drop(columns_to_drop, axis=1, inplace=True)\n",
    "    #print(data.info())\n",
    "    return data"
   ]
  },
  {
   "cell_type": "code",
   "execution_count": 79,
   "metadata": {},
   "outputs": [
    {
     "data": {
      "text/plain": [
       "0.9298245614035088"
      ]
     },
     "execution_count": 79,
     "metadata": {},
     "output_type": "execute_result"
    }
   ],
   "source": [
    "from sklearn.ensemble import StackingClassifier\n",
    "\n",
    "data = load_data(\"../../data/midterm_hackathon/train\")\n",
    "\n",
    "X, y, columns_to_drop = prepare_data_for_training(data, 0.0)\n",
    "\n",
    "X_train, X_test, y_train, y_test = train_test_split(X, y, random_state=42, test_size=0.2)\n",
    "\n",
    "models = [\n",
    "    (\"GradientBoosting\", GradientBoostingClassifier(random_state = 42, n_estimators = 100)),\n",
    "    (\"ExtraTrees\", ExtraTreesClassifier(random_state = 42, n_estimators = 50)),\n",
    "    (\"RandomForest\", RandomForestClassifier(random_state = 42, n_estimators = 50, max_depth=24))\n",
    "]\n",
    "\n",
    "lr = LogisticRegression(random_state = 42, penalty = None, solver = 'lbfgs', multi_class = 'auto')\n",
    "\n",
    "skf = StratifiedKFold(n_splits=30)\n",
    "\n",
    "model = StackingClassifier(models, final_estimator = lr, cv = skf, stack_method = \"predict_proba\" )\n",
    "\n",
    "#print(X.info())\n",
    "model.fit(X_train, y_train).score(X_test, y_test)\n",
    "#model.fit(X, y)\n",
    "#model.fit(X_train, y_train)\n"
   ]
  },
  {
   "cell_type": "code",
   "execution_count": 5,
   "metadata": {},
   "outputs": [],
   "source": [
    "tdata = load_data(\"../../data/midterm_hackathon/test\")\n",
    "tX = prepare_data_for_testing(tdata, columns_to_drop)\n",
    "y_test_pred = model.predict(tX[X.columns])\n",
    "\n",
    "with open(\"../../data/midterm_hackathon/submission2.csv\", \"w\") as f:\n",
    "    f.write(\"ID,Category\\n\")\n",
    "    for id, result in zip(tX[\"ID\"], y_test_pred):\n",
    "        f.write(f\"{id},{result}\\n\")"
   ]
  }
 ],
 "metadata": {
  "kernelspec": {
   "display_name": "env1",
   "language": "python",
   "name": "python3"
  },
  "language_info": {
   "codemirror_mode": {
    "name": "ipython",
    "version": 3
   },
   "file_extension": ".py",
   "mimetype": "text/x-python",
   "name": "python",
   "nbconvert_exporter": "python",
   "pygments_lexer": "ipython3",
   "version": "3.11.5"
  },
  "orig_nbformat": 4
 },
 "nbformat": 4,
 "nbformat_minor": 2
}
