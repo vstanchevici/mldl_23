{
 "cells": [
  {
   "cell_type": "code",
   "execution_count": 1,
   "metadata": {},
   "outputs": [
    {
     "name": "stdout",
     "output_type": "stream",
     "text": [
      "3219.567\n",
      "2951.2801\n",
      "566.3562\n",
      "4\n",
      "92\n",
      "1206\n"
     ]
    },
    {
     "name": "stderr",
     "output_type": "stream",
     "text": [
      "/var/folders/zn/kyqq10rn5p9gl6tpqh15k7580000gn/T/ipykernel_29306/1281255061.py:15: SettingWithCopyWarning: \n",
      "A value is trying to be set on a copy of a slice from a DataFrame.\n",
      "Try using .loc[row_indexer,col_indexer] = value instead\n",
      "\n",
      "See the caveats in the documentation: https://pandas.pydata.org/pandas-docs/stable/user_guide/indexing.html#returning-a-view-versus-a-copy\n",
      "  sensor.ts = pd.to_datetime(sensor.ts)\n"
     ]
    }
   ],
   "source": [
    "import numpy as np\n",
    "import pandas as pd\n",
    "import matplotlib.pyplot as plt\n",
    "from datetime import datetime as dt\n",
    "\n",
    "data = pd.read_csv('../../data/srt_data.csv')\n",
    "\n",
    "#data.info()\n",
    "\n",
    "sensor = data[data.serialNo == 'VA2170620672']\n",
    "\n",
    "print(sensor.max().batteryVoltageMilliV)\n",
    "print(sensor.batteryVoltageMilliV.quantile(0.75))\n",
    "\n",
    "sensor.ts = pd.to_datetime(sensor.ts)\n",
    "\n",
    "humidity = sensor[(sensor.ts.dt.year == 2018) & (sensor.ts.dt.month == 11)]\n",
    "print(humidity.humidityMilliPerc.median(skipna=True))\n",
    "\n",
    "\n",
    "sensor = data[data.serialNo == 'VA2048854528']\n",
    "print(sensor[sensor.batteryVoltageMilliV >= 3200].batteryVoltageMilliV.count()) #here must be 1\n",
    "\n",
    "sensor = data\n",
    "print(sensor[sensor.insideTemperatureCentiC < 1200].insideTemperatureCentiC.count())\n",
    "q75 = sensor.insideTemperatureCentiC.quantile(0.75)\n",
    "print(sensor[sensor.insideTemperatureCentiC >= q75].insideTemperatureCentiC.count())"
   ]
  }
 ],
 "metadata": {
  "kernelspec": {
   "display_name": "env1",
   "language": "python",
   "name": "python3"
  },
  "language_info": {
   "codemirror_mode": {
    "name": "ipython",
    "version": 3
   },
   "file_extension": ".py",
   "mimetype": "text/x-python",
   "name": "python",
   "nbconvert_exporter": "python",
   "pygments_lexer": "ipython3",
   "version": "3.11.5"
  },
  "orig_nbformat": 4
 },
 "nbformat": 4,
 "nbformat_minor": 2
}
