{
 "cells": [
  {
   "cell_type": "code",
   "execution_count": 18,
   "metadata": {},
   "outputs": [
    {
     "name": "stdout",
     "output_type": "stream",
     "text": [
      "[[5 4 4 3 2]]\n",
      "[[-7.58783957 -1.90605029]]\n",
      "[[3.19719556 4.22057993 2.91894245 4.851947   1.05421441]]\n",
      "[ 0.40015936  1.52990144  1.47154395  3.57090597 -1.13168846]\n"
     ]
    }
   ],
   "source": [
    "import numpy as np, pandas as pd\n",
    "import scipy\n",
    "\n",
    "user_movie_matrix = np.array(((1,5,0,5,4), (5,4,4,3,2), (0,4,0,0,5), (4,4,1,4,0), (0,4,3,5,0), (2,4,3,5,3)))\n",
    "\n",
    "U, s, V = scipy.linalg.svd(user_movie_matrix) \n",
    "\n",
    "v2r = V[:2]\n",
    "#print(v2r)\n",
    "\n",
    "user2 = user_movie_matrix[1:2]\n",
    "print(user2)\n",
    "\n",
    "lowdim = user2.dot(np.transpose(v2r))\n",
    "print(lowdim)\n",
    "\n",
    "it = lowdim.dot(v2r)\n",
    "print(it)\n",
    "\n",
    "\n",
    "new_user = np.array((0, 0, 3, 4, 0))\n",
    "v3r = V[:3]\n",
    "lowdimnu = new_user.dot(np.transpose(v3r))\n",
    "itnu = lowdimnu.dot(v3r)\n",
    "print(itnu)"
   ]
  }
 ],
 "metadata": {
  "kernelspec": {
   "display_name": "env1",
   "language": "python",
   "name": "python3"
  },
  "language_info": {
   "codemirror_mode": {
    "name": "ipython",
    "version": 3
   },
   "file_extension": ".py",
   "mimetype": "text/x-python",
   "name": "python",
   "nbconvert_exporter": "python",
   "pygments_lexer": "ipython3",
   "version": "3.11.5"
  },
  "orig_nbformat": 4
 },
 "nbformat": 4,
 "nbformat_minor": 2
}
