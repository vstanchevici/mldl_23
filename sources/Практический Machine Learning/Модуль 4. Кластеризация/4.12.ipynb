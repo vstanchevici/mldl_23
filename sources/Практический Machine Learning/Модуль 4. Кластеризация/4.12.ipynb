{
 "cells": [
  {
   "cell_type": "code",
   "execution_count": 2,
   "metadata": {},
   "outputs": [
    {
     "name": "stderr",
     "output_type": "stream",
     "text": [
      "/Users/victor/miniconda3/envs/env1/lib/python3.11/site-packages/sklearn/cluster/_kmeans.py:1412: FutureWarning: The default value of `n_init` will change from 10 to 'auto' in 1.4. Set the value of `n_init` explicitly to suppress the warning\n",
      "  super()._check_params_vs_input(X, default_n_init=10)\n"
     ]
    },
    {
     "name": "stdout",
     "output_type": "stream",
     "text": [
      "KMeans:                   0.8093973074491927\n",
      "GaussianMixture:          0.9339791347507893\n",
      "AgglomerativeClustering:  0.7179146987805298\n",
      "DBSCAN:                   0.8689356473867522\n"
     ]
    }
   ],
   "source": [
    "import numpy as np\n",
    "import matplotlib.pyplot as plt\n",
    "from sklearn import datasets\n",
    "from sklearn.cluster import KMeans\n",
    "from sklearn.mixture import GaussianMixture\n",
    "from sklearn.cluster import DBSCAN\n",
    "from sklearn.cluster import AgglomerativeClustering\n",
    "from sklearn.metrics.cluster import homogeneity_score\n",
    "\n",
    "\n",
    "n_samples = 1500\n",
    "dataset = datasets.make_blobs(n_samples=n_samples, centers=2, center_box=(-7.0, 7.5),\n",
    "                              cluster_std=[1.4, 1.7],\n",
    "                              random_state=42)\n",
    "X_2, _ = datasets.make_blobs(n_samples=n_samples, random_state=170, centers=[[-4, -3]], cluster_std=[1.9])\n",
    "transformation = [[1.2, -0.8], [-0.4, 1.7]]\n",
    "X_2 = np.dot(X_2, transformation)\n",
    "X, y = np.concatenate((dataset[0], X_2)), np.concatenate((dataset[1], np.array([2] * len(X_2))))\n",
    "\n",
    "#plt.rcParams['figure.figsize'] = 10, 10\n",
    "#plt.scatter(X[:, 0], X[:, 1], c=y, alpha=0.5)\n",
    "#plt.show()\n",
    "\n",
    "k_means = KMeans(init=\"k-means++\", n_clusters=3, random_state=42)\n",
    "y_pred_kmeans = k_means.fit_predict(X)\n",
    "\n",
    "gm = GaussianMixture(n_components=3, random_state=42)\n",
    "y_pred_gm = gm.fit_predict(X)\n",
    "\n",
    "ac = AgglomerativeClustering(n_clusters=3)\n",
    "y_pred_ac = ac.fit_predict(X)\n",
    "\n",
    "dbscan = DBSCAN(eps=0.9, min_samples=35)\n",
    "y_pred_dbscan = dbscan.fit_predict(X)\n",
    "\n",
    "print('KMeans:                  ', homogeneity_score(labels_true=y, labels_pred=y_pred_kmeans))\n",
    "print('GaussianMixture:         ', homogeneity_score(labels_true=y, labels_pred=y_pred_gm))\n",
    "print('AgglomerativeClustering: ', homogeneity_score(labels_true=y, labels_pred=y_pred_ac))\n",
    "print('DBSCAN:                  ', homogeneity_score(labels_true=y, labels_pred=y_pred_dbscan))\n"
   ]
  }
 ],
 "metadata": {
  "kernelspec": {
   "display_name": "env1",
   "language": "python",
   "name": "python3"
  },
  "language_info": {
   "codemirror_mode": {
    "name": "ipython",
    "version": 3
   },
   "file_extension": ".py",
   "mimetype": "text/x-python",
   "name": "python",
   "nbconvert_exporter": "python",
   "pygments_lexer": "ipython3",
   "version": "3.11.5"
  },
  "orig_nbformat": 4
 },
 "nbformat": 4,
 "nbformat_minor": 2
}
