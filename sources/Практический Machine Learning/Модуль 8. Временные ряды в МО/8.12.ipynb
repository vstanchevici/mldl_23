{
 "cells": [
  {
   "cell_type": "code",
   "execution_count": 4,
   "metadata": {},
   "outputs": [
    {
     "name": "stdout",
     "output_type": "stream",
     "text": [
      "              unixtime    open    high     low   close  vol  \\\n",
      "0  1515542400000000000  1314.8  1315.0  1314.7  1314.9  247   \n",
      "1  1515542460000000000  1314.9  1315.2  1314.8  1315.0  395   \n",
      "2  1515542520000000000  1315.0  1315.1  1315.0  1315.1   67   \n",
      "3  1515542580000000000  1315.1  1315.1  1314.8  1314.9   39   \n",
      "4  1515542640000000000  1314.8  1314.9  1314.8  1314.9   22   \n",
      "\n",
      "                   ts  \n",
      "0 2018-01-10 00:00:00  \n",
      "1 2018-01-10 00:01:00  \n",
      "2 2018-01-10 00:02:00  \n",
      "3 2018-01-10 00:03:00  \n",
      "4 2018-01-10 00:04:00  \n",
      "1311.306\n",
      "1.044861887349508\n"
     ]
    }
   ],
   "source": [
    "import numpy as np, pandas as pd\n",
    "import matplotlib.pyplot as plt\n",
    "import time, datetime\n",
    "\n",
    "data = pd.read_csv('../../data/gold_clean.csv')\n",
    "data = data.rename(columns = {'ts': 'unixtime'})\n",
    "data['ts'] = pd.to_datetime(data.unixtime)\n",
    "data = data[(data.ts >= '2018-01-10') & (data.ts <= '2018-01-11')]\n",
    "\n",
    "data = data.reset_index(drop=True)\n",
    "print(data.head())\n",
    "\n",
    "data['rolling_mean'] = data.close.rolling(window = 100).mean()\n",
    "\n",
    "for index, row in data.iterrows():\n",
    "    if (row['rolling_mean'] < row['close']):\n",
    "        print(row['rolling_mean'])\n",
    "        break\n",
    "\n",
    "\n",
    "data['rolling_std'] = data.close.rolling(window = 100).std()\n",
    "for index, row in data.iterrows():\n",
    "    if not np.isnan(row['rolling_std']):\n",
    "        print(row['rolling_std'])\n",
    "        break"
   ]
  },
  {
   "cell_type": "code",
   "execution_count": 5,
   "metadata": {},
   "outputs": [
    {
     "name": "stdout",
     "output_type": "stream",
     "text": [
      "15\n",
      "6\n"
     ]
    }
   ],
   "source": [
    "#https://medium.datadriveninvestor.com/how-to-implement-bollinger-bands-in-python-1106b90da8d1\n",
    "data['upper_band'] = data['rolling_mean'] + 3 * data['rolling_std']\n",
    "data['lower_band'] = data['rolling_mean'] - 3 * data['rolling_std']\n",
    "\n",
    "print(data[data['close'] > data['upper_band']].close.count())\n",
    "print(data[data['close'] < data['lower_band']].close.count())"
   ]
  },
  {
   "cell_type": "code",
   "execution_count": 6,
   "metadata": {},
   "outputs": [
    {
     "name": "stdout",
     "output_type": "stream",
     "text": [
      "1380    1318.85\n",
      "Name: rolling_mm, dtype: float64\n"
     ]
    }
   ],
   "source": [
    "def mm(value):\n",
    "    return (max(value) + min(value))*0.5\n",
    "\n",
    "data['rolling_mm'] = data.close.rolling(window = 50).apply(mm, raw = False)\n",
    "\n",
    "print(data['rolling_mm'][-1:])"
   ]
  },
  {
   "cell_type": "code",
   "execution_count": 7,
   "metadata": {},
   "outputs": [
    {
     "name": "stdout",
     "output_type": "stream",
     "text": [
      "[ 604 1092]\n"
     ]
    }
   ],
   "source": [
    "data['rolling_w5m'] = data.close.rolling(window = 500).mean()\n",
    "data['rolling_ewm'] = data.close.ewm(span = 100).mean()\n",
    "\n",
    "v1 = np.sign(data.rolling_w5m - data.rolling_ewm)\n",
    "v1 = np.diff(v1)\n",
    "v1 = np.where((v1 != 0) & (~np.isnan(v1)))[0]\n",
    "print(v1)"
   ]
  }
 ],
 "metadata": {
  "kernelspec": {
   "display_name": "Python 3 (ipykernel)",
   "language": "python",
   "name": "python3"
  },
  "orig_nbformat": 4
 },
 "nbformat": 4,
 "nbformat_minor": 2
}
