{
 "cells": [
  {
   "cell_type": "code",
   "execution_count": 1,
   "metadata": {},
   "outputs": [
    {
     "name": "stdout",
     "output_type": "stream",
     "text": [
      "(30469, 201)\n",
      "1.7282483836030063\n"
     ]
    }
   ],
   "source": [
    "import numpy as np\n",
    "import pandas as pd\n",
    "import matplotlib.pyplot as plt\n",
    "\n",
    "%matplotlib inline\n",
    "\n",
    "data = pd.read_csv('../../data/data_flats.csv', sep=\";\")\n",
    "\n",
    "#data.info()\n",
    "\n",
    "#print(data.ecology.unique())\n",
    "\n",
    "print(pd.get_dummies(data, columns = ['sub_area']).shape)\n",
    "\n",
    "ecology_dict = {\n",
    "    'good' : 3, 'excellent' : 4, 'poor':1, 'satisfactory' : 2, 'no data' : 0    \n",
    "}\n",
    "\n",
    "data.ecology = data.ecology.replace(to_replace=ecology_dict)\n",
    "\n",
    "print(data.ecology.mean())\n"
   ]
  }
 ],
 "metadata": {
  "kernelspec": {
   "display_name": "env1",
   "language": "python",
   "name": "python3"
  },
  "language_info": {
   "codemirror_mode": {
    "name": "ipython",
    "version": 3
   },
   "file_extension": ".py",
   "mimetype": "text/x-python",
   "name": "python",
   "nbconvert_exporter": "python",
   "pygments_lexer": "ipython3",
   "version": "3.11.5"
  },
  "orig_nbformat": 4
 },
 "nbformat": 4,
 "nbformat_minor": 2
}
