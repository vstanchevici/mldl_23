{
 "cells": [
  {
   "cell_type": "code",
   "execution_count": 1,
   "metadata": {},
   "outputs": [
    {
     "data": {
      "text/plain": [
       "1620"
      ]
     },
     "execution_count": 1,
     "metadata": {},
     "output_type": "execute_result"
    }
   ],
   "source": [
    "import numpy as np\n",
    "import pandas as pd\n",
    "import matplotlib.pyplot as plt\n",
    "from sklearn.preprocessing import PolynomialFeatures\n",
    "\n",
    "%matplotlib inline\n",
    "\n",
    "vis_data = pd.read_csv('../../data/train.csv', encoding = \"ISO-8859-1\", low_memory=False)\n",
    "\n",
    "#\n",
    "#pf = PolynomialFeatures(3)\n",
    "#poly_features = pf.fit_transform(vis_data[['balance_due', 'payment_amount']])\n",
    "#poly_features\n",
    "#poly_features.shape\n",
    "\n",
    "#calculate mean\n",
    "#pf_mean = poly_features.mean(axis=0)\n",
    "#print(pf_mean)\n",
    "#pf_mean.max()\n",
    "#\n",
    "\n",
    "datetime_vals = pd.to_datetime(vis_data.ticket_issued_date.dropna())\n",
    "datetime_vals[datetime_vals.dt.weekday>4].count()\n"
   ]
  }
 ],
 "metadata": {
  "kernelspec": {
   "display_name": "env1",
   "language": "python",
   "name": "python3"
  },
  "language_info": {
   "codemirror_mode": {
    "name": "ipython",
    "version": 3
   },
   "file_extension": ".py",
   "mimetype": "text/x-python",
   "name": "python",
   "nbconvert_exporter": "python",
   "pygments_lexer": "ipython3",
   "version": "3.11.5"
  },
  "orig_nbformat": 4
 },
 "nbformat": 4,
 "nbformat_minor": 2
}
